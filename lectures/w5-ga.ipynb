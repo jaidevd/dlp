{
 "cells": [
  {
   "cell_type": "markdown",
   "id": "c23003aa-fa1b-46e1-adb5-8657c7dd53a7",
   "metadata": {},
   "source": [
    "![](q6-10.png)"
   ]
  },
  {
   "cell_type": "code",
   "execution_count": 2,
   "id": "5a85d3a6-4cb8-4ad3-8b88-55d7661adbc0",
   "metadata": {},
   "outputs": [
    {
     "name": "stderr",
     "output_type": "stream",
     "text": [
      "200it [00:20,  9.82it/s]\n",
      "200it [00:13, 14.93it/s]\n",
      "200it [00:14, 13.87it/s]\n"
     ]
    }
   ],
   "source": [
    "from datasets import load_dataset\n",
    "from tqdm import tqdm\n",
    "import random\n",
    "\n",
    "en = load_dataset('facebook/voxpopuli', 'en', split='train', streaming=True).take(200)\n",
    "es = load_dataset('facebook/voxpopuli', 'es', split='train', streaming=True).take(200)\n",
    "ro = load_dataset('facebook/voxpopuli', 'ro', split='train', streaming=True).take(200)\n",
    "\n",
    "subset = []\n",
    "for sample in tqdm(en):\n",
    "    subset.append(sample)\n",
    "for sample in tqdm(es):\n",
    "    subset.append(sample)\n",
    "for sample in tqdm(ro):\n",
    "    subset.append(sample)\n",
    "\n",
    "random.seed(10)\n",
    "random.shuffle(subset)"
   ]
  },
  {
   "cell_type": "code",
   "execution_count": 21,
   "id": "09212042-c0da-40a8-8530-8a926dbfef36",
   "metadata": {},
   "outputs": [
    {
     "name": "stderr",
     "output_type": "stream",
     "text": [
      "Some weights of Wav2Vec2Model were not initialized from the model checkpoint at facebook/wav2vec2-base-960h and are newly initialized: ['wav2vec2.encoder.pos_conv_embed.conv.parametrizations.weight.original0', 'wav2vec2.encoder.pos_conv_embed.conv.parametrizations.weight.original1', 'wav2vec2.masked_spec_embed']\n",
      "You should probably TRAIN this model on a down-stream task to be able to use it for predictions and inference.\n"
     ]
    }
   ],
   "source": [
    "from transformers import Wav2Vec2Model, Wav2Vec2Processor\n",
    "\n",
    "processor = Wav2Vec2Processor.from_pretrained(\"facebook/wav2vec2-base-960h\", output_hidden_states=True)\n",
    "model = Wav2Vec2Model.from_pretrained(\"facebook/wav2vec2-base-960h\")"
   ]
  },
  {
   "cell_type": "code",
   "execution_count": 22,
   "id": "a48c0431-d130-4ece-aa0c-ccd581e1b025",
   "metadata": {},
   "outputs": [],
   "source": [
    "import torch\n",
    "\n",
    "def get_encoding(sample):\n",
    "    enc = processor(sample['audio']['array'], sampling_rate=16_000, padding=True, return_tensors='pt')\n",
    "    with torch.no_grad():\n",
    "        out = wav_model(**enc)\n",
    "    return out"
   ]
  },
  {
   "cell_type": "code",
   "execution_count": 23,
   "id": "48a833e7-0066-4316-a826-2b37e8f95d85",
   "metadata": {},
   "outputs": [],
   "source": [
    "out = get_encoding(subset[0])"
   ]
  },
  {
   "cell_type": "code",
   "execution_count": 76,
   "id": "1b9ed86b-9a67-45a5-a0ae-43a4fed98214",
   "metadata": {},
   "outputs": [
    {
     "data": {
      "text/plain": [
       "torch.Size([1, 768])"
      ]
     },
     "execution_count": 76,
     "metadata": {},
     "output_type": "execute_result"
    }
   ],
   "source": [
    "out.last_hidden_state.squeeze(0).mean(axis=0).unsqueeze(0).shape"
   ]
  },
  {
   "cell_type": "code",
   "execution_count": 33,
   "id": "c6376093-b7de-4f8f-9f31-d0e5a2fe6e44",
   "metadata": {},
   "outputs": [],
   "source": [
    "from torch import nn"
   ]
  },
  {
   "cell_type": "code",
   "execution_count": 99,
   "id": "39d417f4-55f8-41e6-acf6-a3b2ccfeafac",
   "metadata": {},
   "outputs": [
    {
     "name": "stdout",
     "output_type": "stream",
     "text": [
      "192\n",
      "---\n",
      "64\n",
      "---\n",
      "24576\n",
      "---\n",
      "128\n",
      "---\n",
      "1392640\n",
      "---\n",
      "128\n",
      "---\n",
      "384\n",
      "---\n",
      "3\n",
      "---\n"
     ]
    },
    {
     "data": {
      "text/plain": [
       "1418115"
      ]
     },
     "execution_count": 99,
     "metadata": {},
     "output_type": "execute_result"
    }
   ],
   "source": [
    "class CNN(nn.Module):\n",
    "\n",
    "    def __init__(self, input_dim, num_classes, input_length=768):\n",
    "        super(CNN, self).__init__()\n",
    "        self.conv1 = nn.Conv1d(in_channels=input_dim, out_channels=64, kernel_size=3, padding=1)\n",
    "        self.conv2 = nn.Conv1d(in_channels=64, out_channels=128, kernel_size=3, padding=1)\n",
    "        self.fc1 = nn.Linear(128 * (input_length // 9), 128)\n",
    "        self.fc2 = nn.Linear(128, num_classes)\n",
    "\n",
    "    def forward(self, x):\n",
    "        x = nn.functional.relu(self.conv1(x))\n",
    "        x = nn.functional.max_pool1d(x, kernel_size=3)\n",
    "        x = nn.functional.relu(self.conv2(x))\n",
    "        x = nn.functional.max_pool1d(x, kernel_size=3)\n",
    "        x = x.view(x.size(0), -1)\n",
    "        x = nn.functional.relu(self.fc1(x))\n",
    "        x = self.fc2(x)\n",
    "        return x\n",
    "        \n",
    "cnn = CNN(1, 3)\n",
    "n_params = 0\n",
    "for p in cnn.parameters():\n",
    "    print(p.numel())\n",
    "    print('---')\n",
    "    n_params += p.numel()\n",
    "n_params"
   ]
  },
  {
   "cell_type": "code",
   "execution_count": 100,
   "id": "be5267ae-aa5a-44c6-875f-147ef0764004",
   "metadata": {},
   "outputs": [
    {
     "data": {
      "text/plain": [
       "tensor([[ 0.0165,  0.0859, -0.0368]], grad_fn=<AddmmBackward0>)"
      ]
     },
     "execution_count": 100,
     "metadata": {},
     "output_type": "execute_result"
    }
   ],
   "source": [
    "cnn(x.unsqueeze(0).unsqueeze(1))"
   ]
  },
  {
   "cell_type": "code",
   "execution_count": null,
   "id": "e2547ba1-23a3-4f9e-8f92-6401c8d83999",
   "metadata": {},
   "outputs": [],
   "source": []
  }
 ],
 "metadata": {
  "kernelspec": {
   "display_name": "Python 3 (ipykernel)",
   "language": "python",
   "name": "python3"
  },
  "language_info": {
   "codemirror_mode": {
    "name": "ipython",
    "version": 3
   },
   "file_extension": ".py",
   "mimetype": "text/x-python",
   "name": "python",
   "nbconvert_exporter": "python",
   "pygments_lexer": "ipython3",
   "version": "3.12.5"
  }
 },
 "nbformat": 4,
 "nbformat_minor": 5
}

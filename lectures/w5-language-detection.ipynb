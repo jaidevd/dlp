{
 "cells": [
  {
   "cell_type": "code",
   "execution_count": 1,
   "id": "7e0478d8-1509-4655-b97d-872d886f79b6",
   "metadata": {},
   "outputs": [],
   "source": [
    "from datasets import load_from_disk\n",
    "from tqdm import tqdm"
   ]
  },
  {
   "cell_type": "code",
   "execution_count": 2,
   "id": "f5c00123-c36c-42a8-b11f-aff1c27da326",
   "metadata": {},
   "outputs": [
    {
     "data": {
      "text/plain": [
       "Dataset({\n",
       "    features: ['audio_id', 'language', 'audio', 'raw_text', 'normalized_text', 'gender', 'speaker_id', 'is_gold_transcript', 'accent'],\n",
       "    num_rows: 300\n",
       "})"
      ]
     },
     "execution_count": 2,
     "metadata": {},
     "output_type": "execute_result"
    }
   ],
   "source": [
    "ds = load_from_disk('language-identification')\n",
    "ds"
   ]
  },
  {
   "cell_type": "code",
   "execution_count": 3,
   "id": "f6a745be-274e-4f3b-ad89-fc894e8db48b",
   "metadata": {},
   "outputs": [
    {
     "name": "stderr",
     "output_type": "stream",
     "text": [
      "/home/jaidevd/conda/envs/dlp/lib/python3.12/site-packages/transformers/tokenization_utils_base.py:1601: FutureWarning: `clean_up_tokenization_spaces` was not set. It will be set to `True` by default. This behavior will be depracted in transformers v4.45, and will be then set to `False` by default. For more details check this issue: https://github.com/huggingface/transformers/issues/31884\n",
      "  warnings.warn(\n",
      "Some weights of Wav2Vec2Model were not initialized from the model checkpoint at facebook/wav2vec2-base-960h and are newly initialized: ['wav2vec2.encoder.pos_conv_embed.conv.parametrizations.weight.original0', 'wav2vec2.encoder.pos_conv_embed.conv.parametrizations.weight.original1', 'wav2vec2.masked_spec_embed']\n",
      "You should probably TRAIN this model on a down-stream task to be able to use it for predictions and inference.\n"
     ]
    }
   ],
   "source": [
    "from transformers import Wav2Vec2Model, Wav2Vec2Processor\n",
    "\n",
    "processor = Wav2Vec2Processor.from_pretrained('facebook/wav2vec2-base-960h')\n",
    "wav_model = Wav2Vec2Model.from_pretrained('facebook/wav2vec2-base-960h')"
   ]
  },
  {
   "cell_type": "code",
   "execution_count": 6,
   "id": "8954ddb0-9f9c-4598-a897-9e2ecc593070",
   "metadata": {},
   "outputs": [
    {
     "name": "stderr",
     "output_type": "stream",
     "text": [
      "100%|██████████████████████████████████████████████████████████████████████████████████████████████████████████████████████████████████████████████████████████████████████████████| 300/300 [02:52<00:00,  1.74it/s]\n"
     ]
    }
   ],
   "source": [
    "import torch\n",
    "\n",
    "def process_wav(sample):\n",
    "    enc = processor(sample['audio']['array'], sampling_rate=16_000, padding=True, return_tensors='pt')\n",
    "    with torch.no_grad():\n",
    "        out = wav_model(**enc).last_hidden_state.squeeze().mean(axis=0)\n",
    "    return out, sample['language']\n",
    "\n",
    "encodings = []\n",
    "for sample in tqdm(ds):\n",
    "    encodings.append(process_wav(sample))"
   ]
  },
  {
   "cell_type": "code",
   "execution_count": 9,
   "id": "bb1b3463-91f1-4f75-8b65-115e6bfa10d5",
   "metadata": {},
   "outputs": [],
   "source": [
    "from torch import nn\n",
    "\n",
    "\n",
    "class CNN(nn.Module):\n",
    "    def __init__(self, input_dim, num_classes, input_length=768):\n",
    "        super(CNN, self).__init__()\n",
    "        self.conv1 = nn.Conv1d(\n",
    "            in_channels=input_dim, out_channels=128, kernel_size=3, padding=1)\n",
    "        self.conv2 = nn.Conv1d(\n",
    "            in_channels=128, out_channels=256, kernel_size=3, padding=1)\n",
    "        self.fc1 = nn.Linear(256 * input_length // 4, 128)\n",
    "        self.fc2 = nn.Linear(128, num_classes)\n",
    "\n",
    "    def forward(self, x):\n",
    "        x = nn.functional.relu(self.conv1(x))\n",
    "        x = nn.functional.max_pool1d(x, kernel_size=2)\n",
    "        x = nn.functional.relu(self.conv2(x))\n",
    "        x = nn.functional.max_pool1d(x, kernel_size=2)\n",
    "        x = x.reshape(x.shape[0], -1)\n",
    "        x = nn.functional.relu(self.fc1(x))\n",
    "        x = self.fc2(x)\n",
    "        return x\n",
    "\n",
    "model = CNN(1, 3)"
   ]
  },
  {
   "cell_type": "code",
   "execution_count": 11,
   "id": "fdca0527-545e-4ecf-9270-3c4ee8db3f38",
   "metadata": {},
   "outputs": [
    {
     "data": {
      "text/plain": [
       "torch.Size([300, 768])"
      ]
     },
     "execution_count": 11,
     "metadata": {},
     "output_type": "execute_result"
    }
   ],
   "source": [
    "X = torch.stack([e[0] for e in encodings])\n",
    "X.shape"
   ]
  },
  {
   "cell_type": "code",
   "execution_count": 24,
   "id": "e30bf99f-3d9c-4bfa-a5f1-9d08288ca9e3",
   "metadata": {},
   "outputs": [
    {
     "ename": "RuntimeError",
     "evalue": "shape '[2, 1, 768]' is invalid for input of size 2",
     "output_type": "error",
     "traceback": [
      "\u001b[0;31m---------------------------------------------------------------------------\u001b[0m",
      "\u001b[0;31mRuntimeError\u001b[0m                              Traceback (most recent call last)",
      "Cell \u001b[0;32mIn[24], line 1\u001b[0m\n\u001b[0;32m----> 1\u001b[0m model(\u001b[43mX\u001b[49m\u001b[43m[\u001b[49m\u001b[38;5;241;43m0\u001b[39;49m\u001b[43m,\u001b[49m\u001b[43m \u001b[49m\u001b[43m:\u001b[49m\u001b[38;5;241;43m2\u001b[39;49m\u001b[43m]\u001b[49m\u001b[38;5;241;43m.\u001b[39;49m\u001b[43mreshape\u001b[49m\u001b[43m(\u001b[49m\u001b[38;5;241;43m2\u001b[39;49m\u001b[43m,\u001b[49m\u001b[43m \u001b[49m\u001b[38;5;241;43m1\u001b[39;49m\u001b[43m,\u001b[49m\u001b[43m \u001b[49m\u001b[38;5;241;43m768\u001b[39;49m\u001b[43m)\u001b[49m)\n",
      "\u001b[0;31mRuntimeError\u001b[0m: shape '[2, 1, 768]' is invalid for input of size 2"
     ]
    }
   ],
   "source": [
    "model(X[0, :2].reshape(2, 1, 768))"
   ]
  },
  {
   "cell_type": "code",
   "execution_count": 29,
   "id": "c99bbd01-5790-4656-8324-8b90fc2e9b5d",
   "metadata": {},
   "outputs": [],
   "source": [
    "y = torch.tensor([e[1] for e in encodings])\n",
    "label_mappping = {6:0, 0:1, 3:2}\n",
    "y = y.apply_(lambda x: label_mappping[x])"
   ]
  },
  {
   "cell_type": "code",
   "execution_count": null,
   "id": "d5f78476-a41a-40de-9e7e-089341f9fe66",
   "metadata": {},
   "outputs": [],
   "source": []
  },
  {
   "cell_type": "code",
   "execution_count": 32,
   "id": "34c0bf36-ee05-4639-a371-e83f786b2a00",
   "metadata": {},
   "outputs": [],
   "source": [
    "from sklearn.model_selection import train_test_split\n",
    "\n",
    "x_train, x_test, y_train, y_test = train_test_split(X, y, test_size=0.2)\n",
    "x_train, x_val, y_train, y_val = train_test_split(x_train, y_train, test_size=0.1)"
   ]
  },
  {
   "cell_type": "code",
   "execution_count": 35,
   "id": "a93c40d3-a5fb-491d-a350-2dddd6e21007",
   "metadata": {},
   "outputs": [
    {
     "name": "stdout",
     "output_type": "stream",
     "text": [
      "0 :  tensor(2.8556)\n",
      "1 :  tensor(0.6247)\n",
      "2 :  tensor(0.5391)\n",
      "3 :  tensor(1.0249)\n",
      "4 :  tensor(0.9489)\n",
      "5 :  tensor(0.6490)\n",
      "6 :  tensor(0.5006)\n",
      "7 :  tensor(0.4826)\n",
      "8 :  tensor(0.5102)\n",
      "9 :  tensor(0.4913)\n",
      "10 :  tensor(0.4503)\n",
      "11 :  tensor(0.4404)\n",
      "12 :  tensor(0.4538)\n",
      "13 :  tensor(0.4617)\n",
      "14 :  tensor(0.4544)\n",
      "15 :  tensor(0.4465)\n",
      "16 :  tensor(0.4418)\n",
      "17 :  tensor(0.4361)\n",
      "18 :  tensor(0.4262)\n",
      "19 :  tensor(0.4197)\n",
      "20 :  tensor(0.4203)\n",
      "21 :  tensor(0.4252)\n",
      "22 :  tensor(0.4209)\n",
      "23 :  tensor(0.4100)\n",
      "24 :  tensor(0.4027)\n",
      "25 :  tensor(0.4010)\n",
      "26 :  tensor(0.4034)\n",
      "27 :  tensor(0.4039)\n",
      "28 :  tensor(0.3979)\n",
      "29 :  tensor(0.3915)\n",
      "30 :  tensor(0.3887)\n",
      "31 :  tensor(0.3883)\n",
      "32 :  tensor(0.3881)\n",
      "33 :  tensor(0.3830)\n",
      "34 :  tensor(0.3756)\n",
      "35 :  tensor(0.3752)\n",
      "36 :  tensor(0.3774)\n",
      "37 :  tensor(0.3720)\n",
      "38 :  tensor(0.3665)\n",
      "39 :  tensor(0.3670)\n",
      "40 :  tensor(0.3677)\n",
      "41 :  tensor(0.3615)\n",
      "42 :  tensor(0.3566)\n",
      "43 :  tensor(0.3571)\n",
      "44 :  tensor(0.3529)\n",
      "45 :  tensor(0.3477)\n",
      "46 :  tensor(0.3493)\n",
      "47 :  tensor(0.3435)\n",
      "48 :  tensor(0.3424)\n",
      "49 :  tensor(0.3380)\n"
     ]
    }
   ],
   "source": [
    "from torch import optim\n",
    "\n",
    "torch.manual_seed(10)\n",
    "criterion = nn.CrossEntropyLoss()\n",
    "optimizer = optim.Adam(model.parameters(), lr=0.001)\n",
    "num_epochs = 50\n",
    "\n",
    "for epoch in range(num_epochs):\n",
    "    model.train()\n",
    "    optimizer.zero_grad()\n",
    "    outputs = model(x_train.unsqueeze(1))\n",
    "\n",
    "    loss = criterion(outputs, y_train)\n",
    "    loss.backward()\n",
    "    optimizer.step()\n",
    "\n",
    "    model.eval()\n",
    "    with torch.no_grad():\n",
    "        val_output = model(x_val.unsqueeze(1))  # val_labels\n",
    "        val_loss = criterion(val_output, y_val)\n",
    "        print(epoch, \": \", val_loss)"
   ]
  },
  {
   "cell_type": "code",
   "execution_count": 26,
   "id": "2ee68ec2-694b-4d29-abed-4fb2b81939d6",
   "metadata": {},
   "outputs": [
    {
     "data": {
      "text/plain": [
       "tensor([0, 3, 6, 0, 3, 6, 0, 3, 6, 0, 3, 6, 0, 3, 6, 0, 3, 6, 0, 3, 6, 0, 3, 6,\n",
       "        0, 3, 6, 0, 3, 6, 0, 3, 6, 0, 3, 6, 0, 3, 6, 0, 3, 6, 0, 3, 6, 0, 3, 6,\n",
       "        0, 3, 6, 0, 3, 6, 0, 3, 6, 0, 3, 6, 0, 3, 6, 0, 3, 6, 0, 3, 6, 0, 3, 6,\n",
       "        0, 3, 6, 0, 3, 6, 0, 3, 6, 0, 3, 6, 0, 3, 6, 0, 3, 6, 0, 3, 6, 0, 3, 6,\n",
       "        0, 3, 6, 0, 3, 6, 0, 3, 6, 0, 3, 6, 0, 3, 6, 0, 3, 6, 0, 3, 6, 0, 3, 6,\n",
       "        0, 3, 6, 0, 3, 6, 0, 3, 6, 0, 3, 6, 0, 3, 6, 0, 3, 6, 0, 3, 6, 0, 3, 6,\n",
       "        0, 3, 6, 0, 3, 6, 0, 3, 6, 0, 3, 6, 0, 3, 6, 0, 3, 6, 0, 3, 6, 0, 3, 6,\n",
       "        0, 3, 6, 0, 3, 6, 0, 3, 6, 0, 3, 6, 0, 3, 6, 0, 3, 6, 0, 3, 6, 0, 3, 6,\n",
       "        0, 3, 6, 0, 3, 6, 0, 3, 6, 0, 3, 6, 0, 3, 6, 0, 3, 6, 0, 3, 6, 0, 3, 6,\n",
       "        0, 3, 6, 0, 3, 6, 0, 3, 6, 0, 3, 6, 0, 3, 6, 0, 3, 6, 0, 3, 6, 0, 3, 6,\n",
       "        0, 3, 6, 0, 3, 6, 0, 3, 6, 0, 3, 6, 0, 3, 6, 0, 3, 6, 0, 3, 6, 0, 3, 6,\n",
       "        0, 3, 6, 0, 3, 6, 0, 3, 6, 0, 3, 6, 0, 3, 6, 0, 3, 6, 0, 3, 6, 0, 3, 6,\n",
       "        0, 3, 6, 0, 3, 6, 0, 3, 6, 0, 3, 6])"
      ]
     },
     "execution_count": 26,
     "metadata": {},
     "output_type": "execute_result"
    }
   ],
   "source": [
    "y_act = y.copy()"
   ]
  },
  {
   "cell_type": "code",
   "execution_count": null,
   "id": "4cfbbd4a-6790-4c7f-89e4-93784a8b7eba",
   "metadata": {},
   "outputs": [],
   "source": []
  }
 ],
 "metadata": {
  "kernelspec": {
   "display_name": "Python 3 (ipykernel)",
   "language": "python",
   "name": "python3"
  },
  "language_info": {
   "codemirror_mode": {
    "name": "ipython",
    "version": 3
   },
   "file_extension": ".py",
   "mimetype": "text/x-python",
   "name": "python",
   "nbconvert_exporter": "python",
   "pygments_lexer": "ipython3",
   "version": "3.12.5"
  }
 },
 "nbformat": 4,
 "nbformat_minor": 5
}

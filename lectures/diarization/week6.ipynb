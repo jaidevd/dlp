{
 "cells": [
  {
   "cell_type": "code",
   "execution_count": 1,
   "id": "4963ffbb-eab2-4eb5-a498-fb893e6c96be",
   "metadata": {
    "tags": []
   },
   "outputs": [],
   "source": [
    "from faster_whisper import WhisperModel"
   ]
  },
  {
   "cell_type": "code",
   "execution_count": 2,
   "id": "8fd1ccfe-a516-449e-9f0b-9b990c0f3989",
   "metadata": {
    "tags": []
   },
   "outputs": [],
   "source": [
    "whisper = WhisperModel('base', device='cuda', compute_type='int8')"
   ]
  },
  {
   "cell_type": "code",
   "execution_count": 56,
   "id": "44fb74f7-9a69-4a1c-9208-9398d7e0ae31",
   "metadata": {
    "tags": []
   },
   "outputs": [],
   "source": [
    "file = \"TEST-1.wav\"\n",
    "segments, info = whisper.transcribe(file, language='en', task='transcribe', beam_size=5, best_of=5)"
   ]
  },
  {
   "cell_type": "code",
   "execution_count": 54,
   "id": "cbeff1d4-e445-4042-b0da-0b0141248883",
   "metadata": {
    "tags": []
   },
   "outputs": [
    {
     "data": {
      "text/plain": [
       "36"
      ]
     },
     "execution_count": 54,
     "metadata": {},
     "output_type": "execute_result"
    }
   ],
   "source": [
    "len([k for k in segments])"
   ]
  },
  {
   "cell_type": "code",
   "execution_count": 7,
   "id": "4dcc40f6-0f67-403a-98a8-45cf9efd54dc",
   "metadata": {
    "tags": []
   },
   "outputs": [],
   "source": [
    "import pandas as pd"
   ]
  },
  {
   "cell_type": "code",
   "execution_count": 57,
   "id": "5a35ab79-1902-4c50-b716-4357e7095fca",
   "metadata": {
    "tags": []
   },
   "outputs": [
    {
     "data": {
      "text/html": [
       "<div>\n",
       "<style scoped>\n",
       "    .dataframe tbody tr th:only-of-type {\n",
       "        vertical-align: middle;\n",
       "    }\n",
       "\n",
       "    .dataframe tbody tr th {\n",
       "        vertical-align: top;\n",
       "    }\n",
       "\n",
       "    .dataframe thead th {\n",
       "        text-align: right;\n",
       "    }\n",
       "</style>\n",
       "<table border=\"1\" class=\"dataframe\">\n",
       "  <thead>\n",
       "    <tr style=\"text-align: right;\">\n",
       "      <th></th>\n",
       "      <th>start</th>\n",
       "      <th>end</th>\n",
       "      <th>text</th>\n",
       "    </tr>\n",
       "  </thead>\n",
       "  <tbody>\n",
       "    <tr>\n",
       "      <th>0</th>\n",
       "      <td>0.0</td>\n",
       "      <td>2.0</td>\n",
       "      <td>Let's talk about music.</td>\n",
       "    </tr>\n",
       "    <tr>\n",
       "      <th>1</th>\n",
       "      <td>2.0</td>\n",
       "      <td>4.0</td>\n",
       "      <td>How often do you listen to music?</td>\n",
       "    </tr>\n",
       "    <tr>\n",
       "      <th>2</th>\n",
       "      <td>4.0</td>\n",
       "      <td>7.0</td>\n",
       "      <td>I think I listen to music mostly when I'm driving.</td>\n",
       "    </tr>\n",
       "    <tr>\n",
       "      <th>3</th>\n",
       "      <td>7.0</td>\n",
       "      <td>10.0</td>\n",
       "      <td>I think it puts me in such a good mood when I'm like</td>\n",
       "    </tr>\n",
       "    <tr>\n",
       "      <th>4</th>\n",
       "      <td>10.0</td>\n",
       "      <td>13.0</td>\n",
       "      <td>out there on a drive and I play my favorite music.</td>\n",
       "    </tr>\n",
       "  </tbody>\n",
       "</table>\n",
       "</div>"
      ],
      "text/plain": [
       "   start   end                                                   text\n",
       "0    0.0   2.0                                Let's talk about music.\n",
       "1    2.0   4.0                      How often do you listen to music?\n",
       "2    4.0   7.0     I think I listen to music mostly when I'm driving.\n",
       "3    7.0  10.0   I think it puts me in such a good mood when I'm like\n",
       "4   10.0  13.0     out there on a drive and I play my favorite music."
      ]
     },
     "execution_count": 57,
     "metadata": {},
     "output_type": "execute_result"
    }
   ],
   "source": [
    "df = pd.DataFrame([\n",
    "    (seg.start, seg.end, seg.text) for seg in segments\n",
    "], columns=['start', 'end', 'text'])\n",
    "df.head()"
   ]
  },
  {
   "cell_type": "code",
   "execution_count": 58,
   "id": "166abff3-f7d3-41ba-af16-48a8aee9d4c7",
   "metadata": {
    "tags": []
   },
   "outputs": [
    {
     "data": {
      "text/html": [
       "<div>\n",
       "<style scoped>\n",
       "    .dataframe tbody tr th:only-of-type {\n",
       "        vertical-align: middle;\n",
       "    }\n",
       "\n",
       "    .dataframe tbody tr th {\n",
       "        vertical-align: top;\n",
       "    }\n",
       "\n",
       "    .dataframe thead th {\n",
       "        text-align: right;\n",
       "    }\n",
       "</style>\n",
       "<table border=\"1\" class=\"dataframe\">\n",
       "  <thead>\n",
       "    <tr style=\"text-align: right;\">\n",
       "      <th></th>\n",
       "      <th>start</th>\n",
       "      <th>end</th>\n",
       "      <th>text</th>\n",
       "    </tr>\n",
       "  </thead>\n",
       "  <tbody>\n",
       "    <tr>\n",
       "      <th>31</th>\n",
       "      <td>107.0</td>\n",
       "      <td>109.0</td>\n",
       "      <td>what is this called, what is that called?</td>\n",
       "    </tr>\n",
       "    <tr>\n",
       "      <th>32</th>\n",
       "      <td>109.0</td>\n",
       "      <td>112.0</td>\n",
       "      <td>Because usually when you see pictures, you don't usually know what it's called.</td>\n",
       "    </tr>\n",
       "    <tr>\n",
       "      <th>33</th>\n",
       "      <td>112.0</td>\n",
       "      <td>115.0</td>\n",
       "      <td>So when you read a magazine or where you get the knowledge,</td>\n",
       "    </tr>\n",
       "    <tr>\n",
       "      <th>34</th>\n",
       "      <td>115.0</td>\n",
       "      <td>118.0</td>\n",
       "      <td>that's where you get to know, oh, this fabric is called this,</td>\n",
       "    </tr>\n",
       "    <tr>\n",
       "      <th>35</th>\n",
       "      <td>118.0</td>\n",
       "      <td>121.0</td>\n",
       "      <td>or this decoration is called that.</td>\n",
       "    </tr>\n",
       "  </tbody>\n",
       "</table>\n",
       "</div>"
      ],
      "text/plain": [
       "    start    end  \\\n",
       "31  107.0  109.0   \n",
       "32  109.0  112.0   \n",
       "33  112.0  115.0   \n",
       "34  115.0  118.0   \n",
       "35  118.0  121.0   \n",
       "\n",
       "                                                                                text  \n",
       "31                                         what is this called, what is that called?  \n",
       "32   Because usually when you see pictures, you don't usually know what it's called.  \n",
       "33                       So when you read a magazine or where you get the knowledge,  \n",
       "34                     that's where you get to know, oh, this fabric is called this,  \n",
       "35                                                or this decoration is called that.  "
      ]
     },
     "execution_count": 58,
     "metadata": {},
     "output_type": "execute_result"
    }
   ],
   "source": [
    "df.tail()"
   ]
  },
  {
   "cell_type": "code",
   "execution_count": 9,
   "id": "aae192bf-1457-4439-9e7d-3f43983d780b",
   "metadata": {
    "tags": []
   },
   "outputs": [],
   "source": [
    "import torch\n",
    "from pyannote.audio.pipelines.speaker_verification import PretrainedSpeakerEmbedding\n",
    "\n",
    "speaker_embedding = PretrainedSpeakerEmbedding('speechbrain/spkrec-epaca-voxceleb', device=torch.device('cuda'))"
   ]
  },
  {
   "cell_type": "code",
   "execution_count": 11,
   "id": "5234b3a7-a44a-4b70-878f-78e5e53c6450",
   "metadata": {
    "tags": []
   },
   "outputs": [],
   "source": [
    "from pyannote.audio import Audio\n",
    "from pyannote.core import Segment"
   ]
  },
  {
   "cell_type": "code",
   "execution_count": 14,
   "id": "eb112e87-3055-4073-9c0f-57e8b3cbdf5a",
   "metadata": {
    "tags": []
   },
   "outputs": [
    {
     "data": {
      "text/plain": [
       "[<Segment(2, 4)>, <Segment(4, 7)>, <Segment(7, 10)>]"
      ]
     },
     "execution_count": 14,
     "metadata": {},
     "output_type": "execute_result"
    }
   ],
   "source": [
    "crop_segments = [Segment(r.start, min(r.end, 120)) for _, r in df.iterrows()]\n",
    "crop_segments[:3]"
   ]
  },
  {
   "cell_type": "code",
   "execution_count": 15,
   "id": "18cae40e-9b40-4acf-b813-2a293fbaa591",
   "metadata": {
    "tags": []
   },
   "outputs": [],
   "source": [
    "audio = Audio()"
   ]
  },
  {
   "cell_type": "code",
   "execution_count": 18,
   "id": "3452e7cd-bd66-4043-81ed-e52ae8a64144",
   "metadata": {
    "tags": []
   },
   "outputs": [],
   "source": [
    "crops = [audio.crop(file, seg)[0] for seg in crop_segments]"
   ]
  },
  {
   "cell_type": "code",
   "execution_count": 20,
   "id": "a7931df6-5ff4-4c80-8f87-c19853319ff6",
   "metadata": {
    "tags": []
   },
   "outputs": [
    {
     "data": {
      "text/plain": [
       "torch.Size([1, 32000])"
      ]
     },
     "execution_count": 20,
     "metadata": {},
     "output_type": "execute_result"
    }
   ],
   "source": [
    "crops[0].shape"
   ]
  },
  {
   "cell_type": "code",
   "execution_count": 21,
   "id": "d8a8baeb-69b2-4851-9d48-78ee7f9007b6",
   "metadata": {
    "tags": []
   },
   "outputs": [
    {
     "data": {
      "text/plain": [
       "torch.Size([1, 48000])"
      ]
     },
     "execution_count": 21,
     "metadata": {},
     "output_type": "execute_result"
    }
   ],
   "source": [
    "crops[1].shape"
   ]
  },
  {
   "cell_type": "code",
   "execution_count": 25,
   "id": "0e509acc-7046-405c-a29f-0cb11e903da6",
   "metadata": {
    "tags": []
   },
   "outputs": [],
   "source": [
    "x = crops[0]"
   ]
  },
  {
   "cell_type": "code",
   "execution_count": 27,
   "id": "96c2bd43-b3be-4025-8876-bcfc3307faf3",
   "metadata": {
    "tags": []
   },
   "outputs": [
    {
     "data": {
      "text/plain": [
       "torch.Size([1, 32000])"
      ]
     },
     "execution_count": 27,
     "metadata": {},
     "output_type": "execute_result"
    }
   ],
   "source": [
    "x.shape"
   ]
  },
  {
   "cell_type": "code",
   "execution_count": 31,
   "id": "1518bc30-a978-4277-909b-b39d2407dc17",
   "metadata": {
    "tags": []
   },
   "outputs": [],
   "source": [
    "embeddings = [speaker_embedding(x.unsqueeze(0)).squeeze(0) for x in crops]"
   ]
  },
  {
   "cell_type": "code",
   "execution_count": 32,
   "id": "0b568830-a2da-4e8f-9452-092aa23f2e66",
   "metadata": {
    "tags": []
   },
   "outputs": [],
   "source": [
    "import numpy as np"
   ]
  },
  {
   "cell_type": "code",
   "execution_count": 33,
   "id": "90d5db48-ba86-41a8-b57c-8b8cec3b1746",
   "metadata": {
    "tags": []
   },
   "outputs": [
    {
     "data": {
      "text/plain": [
       "(35, 192)"
      ]
     },
     "execution_count": 33,
     "metadata": {},
     "output_type": "execute_result"
    }
   ],
   "source": [
    "embeddings = np.r_[embeddings]\n",
    "embeddings.shape"
   ]
  },
  {
   "cell_type": "code",
   "execution_count": 36,
   "id": "74a09e7a-dcf5-4bff-9586-73d464959f35",
   "metadata": {
    "tags": []
   },
   "outputs": [],
   "source": [
    "from sklearn.cluster import AgglomerativeClustering"
   ]
  },
  {
   "cell_type": "code",
   "execution_count": 37,
   "id": "1d0d70d0-22a0-406d-8a81-720402d097ac",
   "metadata": {
    "tags": []
   },
   "outputs": [
    {
     "data": {
      "text/plain": [
       "array([1, 0, 0, 0, 0, 0, 0, 1, 0, 0, 0, 0, 0, 0, 0, 1, 0, 0, 0, 0, 0, 0,\n",
       "       1, 1, 0, 0, 0, 0, 0, 0, 0, 0, 0, 0, 0])"
      ]
     },
     "execution_count": 37,
     "metadata": {},
     "output_type": "execute_result"
    }
   ],
   "source": [
    "clus = AgglomerativeClustering(n_clusters=2)\n",
    "clus.fit(embeddings)\n",
    "\n",
    "clus.labels_"
   ]
  },
  {
   "cell_type": "code",
   "execution_count": 38,
   "id": "97e5419a-ff4d-425a-b635-02cf1edb00cd",
   "metadata": {
    "tags": []
   },
   "outputs": [],
   "source": [
    "df['speaker'] = [f\"Speaker {i}\" for i in clus.labels_]"
   ]
  },
  {
   "cell_type": "code",
   "execution_count": 39,
   "id": "e8d5dbc3-e81a-4247-a4d0-3ead7a194921",
   "metadata": {
    "tags": []
   },
   "outputs": [
    {
     "data": {
      "text/html": [
       "<div>\n",
       "<style scoped>\n",
       "    .dataframe tbody tr th:only-of-type {\n",
       "        vertical-align: middle;\n",
       "    }\n",
       "\n",
       "    .dataframe tbody tr th {\n",
       "        vertical-align: top;\n",
       "    }\n",
       "\n",
       "    .dataframe thead th {\n",
       "        text-align: right;\n",
       "    }\n",
       "</style>\n",
       "<table border=\"1\" class=\"dataframe\">\n",
       "  <thead>\n",
       "    <tr style=\"text-align: right;\">\n",
       "      <th></th>\n",
       "      <th>start</th>\n",
       "      <th>end</th>\n",
       "      <th>text</th>\n",
       "      <th>speaker</th>\n",
       "    </tr>\n",
       "  </thead>\n",
       "  <tbody>\n",
       "    <tr>\n",
       "      <th>0</th>\n",
       "      <td>2.0</td>\n",
       "      <td>4.0</td>\n",
       "      <td>How often do you listen to music?</td>\n",
       "      <td>Speaker 1</td>\n",
       "    </tr>\n",
       "    <tr>\n",
       "      <th>1</th>\n",
       "      <td>4.0</td>\n",
       "      <td>7.0</td>\n",
       "      <td>I think I listen to music mostly when I'm dri...</td>\n",
       "      <td>Speaker 0</td>\n",
       "    </tr>\n",
       "    <tr>\n",
       "      <th>2</th>\n",
       "      <td>7.0</td>\n",
       "      <td>10.0</td>\n",
       "      <td>I think it puts me in such a good mood when I...</td>\n",
       "      <td>Speaker 0</td>\n",
       "    </tr>\n",
       "    <tr>\n",
       "      <th>3</th>\n",
       "      <td>10.0</td>\n",
       "      <td>13.0</td>\n",
       "      <td>out there on a drive and I play my favorite m...</td>\n",
       "      <td>Speaker 0</td>\n",
       "    </tr>\n",
       "    <tr>\n",
       "      <th>4</th>\n",
       "      <td>13.0</td>\n",
       "      <td>18.0</td>\n",
       "      <td>I'm usually into Afro music a lot, hip-hop an...</td>\n",
       "      <td>Speaker 0</td>\n",
       "    </tr>\n",
       "  </tbody>\n",
       "</table>\n",
       "</div>"
      ],
      "text/plain": [
       "   start   end                                               text    speaker\n",
       "0    2.0   4.0                  How often do you listen to music?  Speaker 1\n",
       "1    4.0   7.0   I think I listen to music mostly when I'm dri...  Speaker 0\n",
       "2    7.0  10.0   I think it puts me in such a good mood when I...  Speaker 0\n",
       "3   10.0  13.0   out there on a drive and I play my favorite m...  Speaker 0\n",
       "4   13.0  18.0   I'm usually into Afro music a lot, hip-hop an...  Speaker 0"
      ]
     },
     "execution_count": 39,
     "metadata": {},
     "output_type": "execute_result"
    }
   ],
   "source": [
    "df.head()"
   ]
  },
  {
   "cell_type": "code",
   "execution_count": 42,
   "id": "3bed1f06-9586-41a7-a0d8-759ba721316f",
   "metadata": {
    "tags": []
   },
   "outputs": [],
   "source": [
    "df[['start', 'end']] = df[['start', 'end']].astype(int)"
   ]
  },
  {
   "cell_type": "code",
   "execution_count": 47,
   "id": "66eae602-01cf-4257-87a5-c32d4148935e",
   "metadata": {
    "tags": []
   },
   "outputs": [],
   "source": [
    "def seconds_to_srt_time(seconds):\n",
    "    hours = seconds // 3600\n",
    "    seconds %= 3600\n",
    "    minutes = seconds // 60\n",
    "    seconds %= 60\n",
    "    milliseconds = 0  # As we're only given seconds, we'll set milliseconds to zero\n",
    "    return f\"{hours:02}:{minutes:02}:{seconds:02},{milliseconds:03}\"\n",
    "\n",
    "# Updated function to convert DataFrame with integer times to SRT format\n",
    "def dataframe_to_srt(df):\n",
    "    srt_content = ''\n",
    "    for i, row in df.iterrows():\n",
    "        start_time = seconds_to_srt_time(row['start'])\n",
    "        end_time = seconds_to_srt_time(row['end'])\n",
    "        srt_content += f\"{i + 1}\\n{start_time} --> {end_time}\\n{row['speaker']}\\n\\n\"\n",
    "    return srt_content\n",
    "\n",
    "srt = dataframe_to_srt(df)\n",
    "with open('TEST-1.srt', 'w') as fout:\n",
    "    fout.write(srt)"
   ]
  },
  {
   "cell_type": "code",
   "execution_count": 51,
   "id": "65eb3b06-5786-4f97-bddb-7f2b95a36f9c",
   "metadata": {
    "tags": []
   },
   "outputs": [
    {
     "data": {
      "text/html": [
       "<div>\n",
       "<style scoped>\n",
       "    .dataframe tbody tr th:only-of-type {\n",
       "        vertical-align: middle;\n",
       "    }\n",
       "\n",
       "    .dataframe tbody tr th {\n",
       "        vertical-align: top;\n",
       "    }\n",
       "\n",
       "    .dataframe thead th {\n",
       "        text-align: right;\n",
       "    }\n",
       "</style>\n",
       "<table border=\"1\" class=\"dataframe\">\n",
       "  <thead>\n",
       "    <tr style=\"text-align: right;\">\n",
       "      <th></th>\n",
       "      <th>text</th>\n",
       "      <th>speaker</th>\n",
       "    </tr>\n",
       "  </thead>\n",
       "  <tbody>\n",
       "    <tr>\n",
       "      <th>0</th>\n",
       "      <td>How often do you listen to music?</td>\n",
       "      <td>Speaker 1</td>\n",
       "    </tr>\n",
       "    <tr>\n",
       "      <th>1</th>\n",
       "      <td>I think I listen to music mostly when I'm driving.</td>\n",
       "      <td>Speaker 0</td>\n",
       "    </tr>\n",
       "    <tr>\n",
       "      <th>2</th>\n",
       "      <td>I think it puts me in such a good mood when I'm like</td>\n",
       "      <td>Speaker 0</td>\n",
       "    </tr>\n",
       "    <tr>\n",
       "      <th>3</th>\n",
       "      <td>out there on a drive and I play my favorite music.</td>\n",
       "      <td>Speaker 0</td>\n",
       "    </tr>\n",
       "    <tr>\n",
       "      <th>4</th>\n",
       "      <td>I'm usually into Afro music a lot, hip-hop and Afro and R&amp;B.</td>\n",
       "      <td>Speaker 0</td>\n",
       "    </tr>\n",
       "    <tr>\n",
       "      <th>5</th>\n",
       "      <td>So I prefer listening to music when I'm driving</td>\n",
       "      <td>Speaker 0</td>\n",
       "    </tr>\n",
       "    <tr>\n",
       "      <th>6</th>\n",
       "      <td>or sometimes when I'm working out at the gym, something like that.</td>\n",
       "      <td>Speaker 0</td>\n",
       "    </tr>\n",
       "    <tr>\n",
       "      <th>7</th>\n",
       "      <td>Is music an important subject in schools in your country?</td>\n",
       "      <td>Speaker 1</td>\n",
       "    </tr>\n",
       "    <tr>\n",
       "      <th>8</th>\n",
       "      <td>In schools in my country.</td>\n",
       "      <td>Speaker 0</td>\n",
       "    </tr>\n",
       "    <tr>\n",
       "      <th>9</th>\n",
       "      <td>It is because, you know, I'm from India.</td>\n",
       "      <td>Speaker 0</td>\n",
       "    </tr>\n",
       "    <tr>\n",
       "      <th>10</th>\n",
       "      <td>So in India, music and dance and expressing our emotions</td>\n",
       "      <td>Speaker 0</td>\n",
       "    </tr>\n",
       "    <tr>\n",
       "      <th>11</th>\n",
       "      <td>is usually through music and dancing.</td>\n",
       "      <td>Speaker 0</td>\n",
       "    </tr>\n",
       "    <tr>\n",
       "      <th>12</th>\n",
       "      <td>So in every school they teach classical music</td>\n",
       "      <td>Speaker 0</td>\n",
       "    </tr>\n",
       "    <tr>\n",
       "      <th>13</th>\n",
       "      <td>or they have a subject where there is something about music usually.</td>\n",
       "      <td>Speaker 0</td>\n",
       "    </tr>\n",
       "    <tr>\n",
       "      <th>14</th>\n",
       "      <td>So I think it is important.</td>\n",
       "      <td>Speaker 0</td>\n",
       "    </tr>\n",
       "    <tr>\n",
       "      <th>15</th>\n",
       "      <td>Do you ever go to live concerts?</td>\n",
       "      <td>Speaker 1</td>\n",
       "    </tr>\n",
       "    <tr>\n",
       "      <th>16</th>\n",
       "      <td>Oh, I've been to three concerts and three of them are my favorite artists.</td>\n",
       "      <td>Speaker 0</td>\n",
       "    </tr>\n",
       "    <tr>\n",
       "      <th>17</th>\n",
       "      <td>And it was actually on my wish list and I made it happen.</td>\n",
       "      <td>Speaker 0</td>\n",
       "    </tr>\n",
       "    <tr>\n",
       "      <th>18</th>\n",
       "      <td>And it was one of the best experiences.</td>\n",
       "      <td>Speaker 0</td>\n",
       "    </tr>\n",
       "    <tr>\n",
       "      <th>19</th>\n",
       "      <td>And in live concerts, it's a lot different than you would imagine.</td>\n",
       "      <td>Speaker 0</td>\n",
       "    </tr>\n",
       "    <tr>\n",
       "      <th>20</th>\n",
       "      <td>Just have to keep your energy straight.</td>\n",
       "      <td>Speaker 0</td>\n",
       "    </tr>\n",
       "    <tr>\n",
       "      <th>21</th>\n",
       "      <td>And it's like you can't believe it's happening.</td>\n",
       "      <td>Speaker 0</td>\n",
       "    </tr>\n",
       "    <tr>\n",
       "      <th>22</th>\n",
       "      <td>Now let's talk about magazines and newspapers.</td>\n",
       "      <td>Speaker 1</td>\n",
       "    </tr>\n",
       "    <tr>\n",
       "      <th>23</th>\n",
       "      <td>Do you prefer to read magazines or newspapers?</td>\n",
       "      <td>Speaker 1</td>\n",
       "    </tr>\n",
       "    <tr>\n",
       "      <th>24</th>\n",
       "      <td>Definitely magazines.</td>\n",
       "      <td>Speaker 0</td>\n",
       "    </tr>\n",
       "    <tr>\n",
       "      <th>25</th>\n",
       "      <td>Mostly on topics of fashion or interior design.</td>\n",
       "      <td>Speaker 0</td>\n",
       "    </tr>\n",
       "    <tr>\n",
       "      <th>26</th>\n",
       "      <td>This is what I really like because I like to see creative sides</td>\n",
       "      <td>Speaker 0</td>\n",
       "    </tr>\n",
       "    <tr>\n",
       "      <th>27</th>\n",
       "      <td>from all over the world.</td>\n",
       "      <td>Speaker 0</td>\n",
       "    </tr>\n",
       "    <tr>\n",
       "      <th>28</th>\n",
       "      <td>I like to see what people are talking about, what's new, what's trending.</td>\n",
       "      <td>Speaker 0</td>\n",
       "    </tr>\n",
       "    <tr>\n",
       "      <th>29</th>\n",
       "      <td>And I like to learn, like I like to have knowledge of things of like,</td>\n",
       "      <td>Speaker 0</td>\n",
       "    </tr>\n",
       "    <tr>\n",
       "      <th>30</th>\n",
       "      <td>what is this called, what is that called?</td>\n",
       "      <td>Speaker 0</td>\n",
       "    </tr>\n",
       "    <tr>\n",
       "      <th>31</th>\n",
       "      <td>Because usually when you see pictures, you don't usually know what it's called.</td>\n",
       "      <td>Speaker 0</td>\n",
       "    </tr>\n",
       "    <tr>\n",
       "      <th>32</th>\n",
       "      <td>So when you read a magazine or where you get the knowledge,</td>\n",
       "      <td>Speaker 0</td>\n",
       "    </tr>\n",
       "    <tr>\n",
       "      <th>33</th>\n",
       "      <td>that's where you get to know, oh, this fabric is called this,</td>\n",
       "      <td>Speaker 0</td>\n",
       "    </tr>\n",
       "    <tr>\n",
       "      <th>34</th>\n",
       "      <td>or this decoration is called that.</td>\n",
       "      <td>Speaker 0</td>\n",
       "    </tr>\n",
       "  </tbody>\n",
       "</table>\n",
       "</div>"
      ],
      "text/plain": [
       "                                                                                text  \\\n",
       "0                                                  How often do you listen to music?   \n",
       "1                                 I think I listen to music mostly when I'm driving.   \n",
       "2                               I think it puts me in such a good mood when I'm like   \n",
       "3                                 out there on a drive and I play my favorite music.   \n",
       "4                       I'm usually into Afro music a lot, hip-hop and Afro and R&B.   \n",
       "5                                    So I prefer listening to music when I'm driving   \n",
       "6                 or sometimes when I'm working out at the gym, something like that.   \n",
       "7                          Is music an important subject in schools in your country?   \n",
       "8                                                          In schools in my country.   \n",
       "9                                           It is because, you know, I'm from India.   \n",
       "10                          So in India, music and dance and expressing our emotions   \n",
       "11                                             is usually through music and dancing.   \n",
       "12                                     So in every school they teach classical music   \n",
       "13              or they have a subject where there is something about music usually.   \n",
       "14                                                       So I think it is important.   \n",
       "15                                                  Do you ever go to live concerts?   \n",
       "16        Oh, I've been to three concerts and three of them are my favorite artists.   \n",
       "17                         And it was actually on my wish list and I made it happen.   \n",
       "18                                           And it was one of the best experiences.   \n",
       "19                And in live concerts, it's a lot different than you would imagine.   \n",
       "20                                           Just have to keep your energy straight.   \n",
       "21                                   And it's like you can't believe it's happening.   \n",
       "22                                    Now let's talk about magazines and newspapers.   \n",
       "23                                    Do you prefer to read magazines or newspapers?   \n",
       "24                                                             Definitely magazines.   \n",
       "25                                   Mostly on topics of fashion or interior design.   \n",
       "26                   This is what I really like because I like to see creative sides   \n",
       "27                                                          from all over the world.   \n",
       "28         I like to see what people are talking about, what's new, what's trending.   \n",
       "29             And I like to learn, like I like to have knowledge of things of like,   \n",
       "30                                         what is this called, what is that called?   \n",
       "31   Because usually when you see pictures, you don't usually know what it's called.   \n",
       "32                       So when you read a magazine or where you get the knowledge,   \n",
       "33                     that's where you get to know, oh, this fabric is called this,   \n",
       "34                                                or this decoration is called that.   \n",
       "\n",
       "      speaker  \n",
       "0   Speaker 1  \n",
       "1   Speaker 0  \n",
       "2   Speaker 0  \n",
       "3   Speaker 0  \n",
       "4   Speaker 0  \n",
       "5   Speaker 0  \n",
       "6   Speaker 0  \n",
       "7   Speaker 1  \n",
       "8   Speaker 0  \n",
       "9   Speaker 0  \n",
       "10  Speaker 0  \n",
       "11  Speaker 0  \n",
       "12  Speaker 0  \n",
       "13  Speaker 0  \n",
       "14  Speaker 0  \n",
       "15  Speaker 1  \n",
       "16  Speaker 0  \n",
       "17  Speaker 0  \n",
       "18  Speaker 0  \n",
       "19  Speaker 0  \n",
       "20  Speaker 0  \n",
       "21  Speaker 0  \n",
       "22  Speaker 1  \n",
       "23  Speaker 1  \n",
       "24  Speaker 0  \n",
       "25  Speaker 0  \n",
       "26  Speaker 0  \n",
       "27  Speaker 0  \n",
       "28  Speaker 0  \n",
       "29  Speaker 0  \n",
       "30  Speaker 0  \n",
       "31  Speaker 0  \n",
       "32  Speaker 0  \n",
       "33  Speaker 0  \n",
       "34  Speaker 0  "
      ]
     },
     "execution_count": 51,
     "metadata": {},
     "output_type": "execute_result"
    }
   ],
   "source": [
    "pd.options.display.max_colwidth = 100\n",
    "df[['text', 'speaker']]"
   ]
  },
  {
   "cell_type": "code",
   "execution_count": 59,
   "id": "c19f8616-7449-4629-a03e-465d75f4807d",
   "metadata": {
    "tags": []
   },
   "outputs": [],
   "source": [
    "import faster_whisper"
   ]
  },
  {
   "cell_type": "code",
   "execution_count": 60,
   "id": "f70d6617-1a0c-4d4c-a551-1308158e1a71",
   "metadata": {
    "tags": []
   },
   "outputs": [
    {
     "data": {
      "text/plain": [
       "'0.10.1'"
      ]
     },
     "execution_count": 60,
     "metadata": {},
     "output_type": "execute_result"
    }
   ],
   "source": [
    "faster_whisper.__version__"
   ]
  },
  {
   "cell_type": "code",
   "execution_count": 63,
   "id": "435c823e-c8eb-4fc0-92c0-4d7e52c88e3e",
   "metadata": {
    "tags": []
   },
   "outputs": [
    {
     "data": {
      "text/plain": [
       "100"
      ]
     },
     "execution_count": 63,
     "metadata": {},
     "output_type": "execute_result"
    }
   ],
   "source": [
    "len(whisper.supported_languages)"
   ]
  },
  {
   "cell_type": "code",
   "execution_count": 64,
   "id": "cc59d3a1-d44e-49fe-8108-726025cdd006",
   "metadata": {
    "tags": []
   },
   "outputs": [],
   "source": [
    "from sklearn.datasets import load_iris"
   ]
  },
  {
   "cell_type": "code",
   "execution_count": 68,
   "id": "c211a8e6-78ce-4b51-a382-654c5d464ea3",
   "metadata": {
    "tags": []
   },
   "outputs": [],
   "source": [
    "X, y = load_iris(return_X_y=True, as_frame=True)"
   ]
  },
  {
   "cell_type": "code",
   "execution_count": 66,
   "id": "6493aae6-2c0e-4435-9301-c352437cfe09",
   "metadata": {
    "tags": []
   },
   "outputs": [],
   "source": [
    "from sklearn.cluster import KMeans"
   ]
  },
  {
   "cell_type": "code",
   "execution_count": 76,
   "id": "a2fe82f3-ad2a-40b2-8de3-fb7dbeeefef9",
   "metadata": {
    "tags": []
   },
   "outputs": [],
   "source": [
    "iris = load_iris()\n",
    "labels = iris.target_names"
   ]
  },
  {
   "cell_type": "code",
   "execution_count": 93,
   "id": "8a4bfc81-9180-4dc2-b379-e7ed8916b91a",
   "metadata": {
    "tags": []
   },
   "outputs": [
    {
     "data": {
      "text/html": [
       "<div>\n",
       "<style scoped>\n",
       "    .dataframe tbody tr th:only-of-type {\n",
       "        vertical-align: middle;\n",
       "    }\n",
       "\n",
       "    .dataframe tbody tr th {\n",
       "        vertical-align: top;\n",
       "    }\n",
       "\n",
       "    .dataframe thead th {\n",
       "        text-align: right;\n",
       "    }\n",
       "</style>\n",
       "<table border=\"1\" class=\"dataframe\">\n",
       "  <thead>\n",
       "    <tr style=\"text-align: right;\">\n",
       "      <th></th>\n",
       "      <th>0</th>\n",
       "      <th>1</th>\n",
       "    </tr>\n",
       "  </thead>\n",
       "  <tbody>\n",
       "    <tr>\n",
       "      <th>0</th>\n",
       "      <td>setosa</td>\n",
       "      <td>1</td>\n",
       "    </tr>\n",
       "    <tr>\n",
       "      <th>50</th>\n",
       "      <td>versicolor</td>\n",
       "      <td>0</td>\n",
       "    </tr>\n",
       "    <tr>\n",
       "      <th>51</th>\n",
       "      <td>versicolor</td>\n",
       "      <td>2</td>\n",
       "    </tr>\n",
       "    <tr>\n",
       "      <th>100</th>\n",
       "      <td>virginica</td>\n",
       "      <td>0</td>\n",
       "    </tr>\n",
       "    <tr>\n",
       "      <th>101</th>\n",
       "      <td>virginica</td>\n",
       "      <td>2</td>\n",
       "    </tr>\n",
       "  </tbody>\n",
       "</table>\n",
       "</div>"
      ],
      "text/plain": [
       "              0  1\n",
       "0        setosa  1\n",
       "50   versicolor  0\n",
       "51   versicolor  2\n",
       "100   virginica  0\n",
       "101   virginica  2"
      ]
     },
     "execution_count": 93,
     "metadata": {},
     "output_type": "execute_result"
    }
   ],
   "source": [
    "km = KMeans(n_clusters=3, random_state=42)\n",
    "km.fit(X)\n",
    "\n",
    "pd.DataFrame(np.c_[labels, km.labels_]).drop_duplicates().sort_values(0)"
   ]
  },
  {
   "cell_type": "code",
   "execution_count": 79,
   "id": "8eb35a54-f195-4afd-90d7-d8411e1fd0e3",
   "metadata": {
    "tags": []
   },
   "outputs": [],
   "source": [
    "labels = labels[y]"
   ]
  },
  {
   "cell_type": "code",
   "execution_count": null,
   "id": "5c8476c2-c5be-4573-a597-64571d9c2cbd",
   "metadata": {},
   "outputs": [],
   "source": []
  }
 ],
 "metadata": {
  "kernelspec": {
   "display_name": "Python 3 (ipykernel)",
   "language": "python",
   "name": "python3"
  },
  "language_info": {
   "codemirror_mode": {
    "name": "ipython",
    "version": 3
   },
   "file_extension": ".py",
   "mimetype": "text/x-python",
   "name": "python",
   "nbconvert_exporter": "python",
   "pygments_lexer": "ipython3",
   "version": "3.9.18"
  }
 },
 "nbformat": 4,
 "nbformat_minor": 5
}

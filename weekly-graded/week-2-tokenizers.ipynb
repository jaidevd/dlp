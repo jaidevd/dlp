{
 "cells": [
  {
   "cell_type": "markdown",
   "id": "ade6f0aa-9513-4d8f-81e7-87355a68ddfe",
   "metadata": {},
   "source": [
    "Download the BookCorpus dataset. Take every 7-th sample (the indices are multiple of 7:[0,7,14,21,...]) from the entire dataset. This will result in a dataset with 10 million samples (exactly, 10,572,033). Use these samples to build a tokenizer with the BPE tokenization algorithm by varying the vocabulary size.\n",
    "\n",
    "Normalizer: LowerCase\n",
    "\n",
    "PreTokenizer: WhiteSpace\n",
    "\n",
    "Model: BPE\n",
    "\n",
    "Special tokens: [GO],[UNK],[PAD],[EOS]\n",
    "\n",
    "PostProcessing: None\n",
    "\n",
    "Tokenize the input text: “SEBI study finds 93% of individual F&O traders made losses between FY22 and FY24.” using the following configurations."
   ]
  },
  {
   "cell_type": "code",
   "execution_count": 1,
   "id": "5760225b-c795-4825-9b9a-8345404d772e",
   "metadata": {},
   "outputs": [
    {
     "data": {
      "application/vnd.jupyter.widget-view+json": {
       "model_id": "6f2cae19c9194861a5d02efcd4474abf",
       "version_major": 2,
       "version_minor": 0
      },
      "text/plain": [
       "Downloading builder script:   0%|          | 0.00/3.25k [00:00<?, ?B/s]"
      ]
     },
     "metadata": {},
     "output_type": "display_data"
    },
    {
     "data": {
      "application/vnd.jupyter.widget-view+json": {
       "model_id": "0d8b9001f141437abfab1c59ebf52e46",
       "version_major": 2,
       "version_minor": 0
      },
      "text/plain": [
       "Downloading readme:   0%|          | 0.00/18.5k [00:00<?, ?B/s]"
      ]
     },
     "metadata": {},
     "output_type": "display_data"
    },
    {
     "name": "stdin",
     "output_type": "stream",
     "text": [
      "The repository for bookcorpus contains custom code which must be executed to correctly load the dataset. You can inspect the repository content at https://hf.co/datasets/bookcorpus.\n",
      "You can avoid this prompt in future by passing the argument `trust_remote_code=True`.\n",
      "\n",
      "Do you wish to run the custom code? [y/N]  y\n"
     ]
    },
    {
     "data": {
      "application/vnd.jupyter.widget-view+json": {
       "model_id": "5d6338a509c8403983dc8ab9aae686df",
       "version_major": 2,
       "version_minor": 0
      },
      "text/plain": [
       "Downloading data:   0%|          | 0.00/1.18G [00:00<?, ?B/s]"
      ]
     },
     "metadata": {},
     "output_type": "display_data"
    },
    {
     "data": {
      "application/vnd.jupyter.widget-view+json": {
       "model_id": "0ffddb6becef4efbb05a24d8e01510d6",
       "version_major": 2,
       "version_minor": 0
      },
      "text/plain": [
       "Generating train split:   0%|          | 0/74004228 [00:00<?, ? examples/s]"
      ]
     },
     "metadata": {},
     "output_type": "display_data"
    },
    {
     "data": {
      "text/plain": [
       "1"
      ]
     },
     "execution_count": 1,
     "metadata": {},
     "output_type": "execute_result"
    }
   ],
   "source": [
    "from datasets import load_dataset\n",
    "ds = load_dataset(\"bookcorpus\", split=\"all\")\n",
    "samples = ds[::7]\n",
    "len(samples)"
   ]
  },
  {
   "cell_type": "code",
   "execution_count": 2,
   "id": "44839808-3397-4b0d-b3e5-5b9f67d18bb4",
   "metadata": {
    "collapsed": true,
    "jupyter": {
     "outputs_hidden": true
    }
   },
   "outputs": [
    {
     "data": {
      "text/plain": [
       "{'text': ['usually , he would be tearing around the living room , playing with his toys .',\n",
       "  'mason barely acknowledged her .',\n",
       "  'mason was already registering off the charts in height and weight according to his pediatrician .',\n",
       "  'she never wanted anything in the world to hurt him , and she knew that being rejected by his father would .',\n",
       "  \"aidan was her mother 's baby brother and only son of the family .\",\n",
       "  \"while it had been no question that she wanted him as godfather for mason , she had been extremely honored when he and his wife , emma , had asked her to be their son , noah 's , godmother .\",\n",
       "  \"`` beau ? ''\",\n",
       "  \"`` oomph , '' she muttered , as they started up the basement stairs .\",\n",
       "  'she asked .',\n",
       "  'sean acknowledged her with a two finger salute before cranking up and pulling down the driveway .',\n",
       "  'at that time , she had her heart set on going to medical school and becoming a doctor .',\n",
       "  \"sadly , she could n't say that her first love was davis , mason 's father .\",\n",
       "  'by the time she got back on track with her grades , she had abandoned any hope of medical school .',\n",
       "  'leaning forward in her seat , megan eyed the clock on the dashboard .',\n",
       "  \"he grinned and then happily dodged her mother 's arms for her father 's instead , which made megan smile .\",\n",
       "  \"emma 's best friend , casey , answered the door .\",\n",
       "  'she was feeding him a bottle while her upper body was draped in a towel .',\n",
       "  'megan laughed and motioned to the towel and noah .',\n",
       "  'casey snorted .',\n",
       "  \"she bent over emma to rub one of noah 's hands .\",\n",
       "  \"`` that too , '' megan agreed .\",\n",
       "  \"`` i 'm very satisfied with both my choices , megan .\",\n",
       "  \"`` no , i have n't .\",\n",
       "  'she winked at megan .',\n",
       "  \"scratch that-it had been a long time since she 'd had sex with anyone .\",\n",
       "  \"`` since when do you watch bollywood movies ? ''\",\n",
       "  'this man was sounding better and better by the minute .',\n",
       "  'more than anything , she wanted to have a little fun herself .',\n",
       "  \"`` what do you mean ? ''\",\n",
       "  \"`` em , you might as well tell her , '' casey urged .\",\n",
       "  \"`` when aidan and i broke up- '' `` what you meant to say is , after you left aidan when he did n't show up for noah 's gender ultrasound because he was cheating on you ? ''\",\n",
       "  \"`` anyway , as you were saying , '' megan pressed .\",\n",
       "  '`` not exactly .',\n",
       "  'a smile spread across her face as noah kicked his legs and giggled at casey .',\n",
       "  \"i did n't want to tell you at all .\",\n",
       "  'casey eyed emma as she took the baptism gown off the hanger .',\n",
       "  \"`` you 're impossible . ''\",\n",
       "  'megan asked .',\n",
       "  'he was an amazing kisser who got all my senses up and running in all the right ways .',\n",
       "  \"`` i get that he does n't need to be hurt , but who is to say that having a fling is going to hurt him ?\",\n",
       "  \"especially if the last woman he cared about loved someone else . ''\",\n",
       "  'after all , he was the greatest hurdle in her having a committed relationship .',\n",
       "  'she gave megan a pointed look .',\n",
       "  \"`` okay , okay , i promise . ''\",\n",
       "  \"`` everything okay ? ''\",\n",
       "  \"with a laugh , aidan announced , `` i 'll take that as a yes . ''\",\n",
       "  'they entered a noisy room crammed with family and friends .',\n",
       "  'megan smiled as she walked up to them .',\n",
       "  \"besides , he 's really into this game . ''\",\n",
       "  'and then she saw him .',\n",
       "  'he was all the way across the room , but he had the same effect as if he were standing by her side , rubbing against her .',\n",
       "  'chances at ripping off my clothes , chances at kissing and licking me all over my body , chances at allowing his hands , fingers , and the promising bulge in his pants to stroke me until i orgasm ... yep , many , many chances .',\n",
       "  \"the last time they 'd been together , pesh was the hero flying aidan from north carolina to atlanta just in time for noah 's unexpected birth .\",\n",
       "  'he bypassed throwing out his hand , and instead , he pulled pesh to him for a bear hug .',\n",
       "  'aidan pulled away .',\n",
       "  \"a beaming smile lit aidan 's face .\",\n",
       "  \"`` and i do mean that . ''\",\n",
       "  'i can never thank you enough .',\n",
       "  \"i want to introduce you to everyone . ''\",\n",
       "  \"`` i see . ''\",\n",
       "  'aidan introduced him to his four sisters and their husbands .',\n",
       "  \"you know , a real romantic story to tell future kids about how you two met being the godmother and godfather of this sweet and adorable kid . ''\",\n",
       "  \"but as much as it pisses me off to admit it , you two would make a great couple . ''\",\n",
       "  \"pesh could n't help giving aidan a skeptical look .\",\n",
       "  'aidan grinned as he glanced between the two of them .',\n",
       "  \"`` i 'll leave you two to get to know each other , '' aidan said .\",\n",
       "  \"`` yes , i am . ''\",\n",
       "  'aidan had failed to mention that they had the medical profession in common .',\n",
       "  \"they ca n't help worrying about the neighborhood .\",\n",
       "  \"`` i guess it 's the fact i really want to feel like i 'm making a difference and saving lives .\",\n",
       "  'to them , he was a prize to be won .',\n",
       "  \"i know i would love to work alongside someone who had your passion . ''\",\n",
       "  '`` i would like that .',\n",
       "  'tilting her head , she gave him a very alluring smile .',\n",
       "  \"`` mommy ! ''\",\n",
       "  \"`` miss you . ''\",\n",
       "  'aidan had failed to mention that fact as well .',\n",
       "  \"`` how old are you ? ''\",\n",
       "  \"`` he 's the sweetest and best boy i could ever hope for . ''\",\n",
       "  'mason reluctantly went to his grandmother .',\n",
       "  \"`` thank you . ''\",\n",
       "  \"be the angel i know you can be . ''\",\n",
       "  \"he was fine until i put him in the gown . ''\",\n",
       "  \"aidan and emma made the sign of the cross on noah 's forehead before megan leaned in to do the same .\",\n",
       "  \"the priest took a fussing noah from emma 's arms .\",\n",
       "  \"we have to do pictures . ''\",\n",
       "  'pesh smoothed down his tie and allowed the photographer to pose him in the group shot .',\n",
       "  \"it made him want to draw her into his embrace ... maybe do other things that he should n't be thinking when he was in a church .\",\n",
       "  \"`` you look perfect to me , '' he said sincerely .\",\n",
       "  \"`` okay , now just with the godmother , '' the photographer ordered .\",\n",
       "  \"`` okay , that should get it , '' the photographer said .\",\n",
       "  'the baby instantly stopped crying .',\n",
       "  'after several flashes went off , the photographer put down his camera .',\n",
       "  'megan brought some of the lace between her fingers .',\n",
       "  'pesh nodded .',\n",
       "  \"`` such a mama 's boy , '' aidan muttered , which earned him a glare from emma .\",\n",
       "  \"`` um , yes , i 'll be there . ''\",\n",
       "  'the tables were adorned with blue and white tablecloths and glittering blue and white centerpieces .',\n",
       "  \"`` so , i was just wondering where the ice sculptures were ? ''\",\n",
       "  \"you waited so long to have a baby that it makes sense you might go a little overboard . ''\",\n",
       "  \"`` then i think you 're safe from being a momzilla party monster ... for now . ''\",\n",
       "  \"just as her chest started to tighten , she saw him on her papa 's lap .\",\n",
       "  \"cocking his head , papa demanded , `` are you trying to say i 'm old or something ? ''\",\n",
       "  \"`` thanks , papa . ''\",\n",
       "  '`` um , okay .',\n",
       "  'with the first button of his shirt undone , she could see a tuft of dark chest hair .',\n",
       "  \"`` ready to eat ? ''\",\n",
       "  \"`` are you sure ? ''\",\n",
       "  \"`` the day is n't over yet .\",\n",
       "  \"i love aidan , but he 's not necessarily a gentleman .\",\n",
       "  '`` forget other people .',\n",
       "  \"`` we were n't .\",\n",
       "  '`` just saying .',\n",
       "  'thankfully , she found herself sitting next to him at one of the poolside tables .',\n",
       "  \"`` i bet you were a cute little doctor . ''\",\n",
       "  \"`` i 'm starting to feel like i 'm being interrogated . ''\",\n",
       "  \"cocking her brows , she replied , `` and then there 's not answering my question . ''\",\n",
       "  '`` pretty much .',\n",
       "  '`` what about you ?',\n",
       "  'there was no way she was going to tell him the truth about her past and why she had been forced to abandon medical school .',\n",
       "  \"`` was it your son who changed your plans about medical school ? ''\",\n",
       "  '`` no , go ahead .',\n",
       "  \"and no , mason 's father does n't have anything to do with him . ''\",\n",
       "  \"in a soft voice that vibrated with empathy , he asked , `` he hurt you very much , did n't he ? ''\",\n",
       "  'she raked her fingers through her hair as she tried processing if she was really going to be honest with pesh .',\n",
       "  \"pesh 's dark eyes pooled with empathy as he once again took her hand in his .\",\n",
       "  \"`` thank you , '' he murmured .\",\n",
       "  'after she gave a brief nod , he began to talk .',\n",
       "  \"`` it 's interesting to hear you say that .\",\n",
       "  \"`` then they 're obviously insecure .\",\n",
       "  'the intensity of his gaze caused her to laugh nervously .',\n",
       "  'he asked megan .',\n",
       "  'megan laughed .',\n",
       "  'aidan bobbed his head .',\n",
       "  'she shrugged .',\n",
       "  \"`` for some reason , i do n't believe that . ''\",\n",
       "  \"of course , she could n't help judging him as not being the commando type .\",\n",
       "  '`` how old do you think i am ?',\n",
       "  'she laughed before explaining where the nickname came from .',\n",
       "  \"i 'm thirty-seven . ''\",\n",
       "  \"`` it 's considerably older than you are , right ? ''\",\n",
       "  \"`` i must be positively ancient to you . ''\",\n",
       "  'he asked , bending over to where his delicious head of hair was in front of her face .',\n",
       "  \"`` i would think so . ''\",\n",
       "  '`` um , sure .',\n",
       "  'then when she became a mom , she rarely saw anyone from her old group .',\n",
       "  \"`` what ? ''\",\n",
       "  \"`` that tequila is a hundred and fifty proof alcohol , aidan , '' emma chastised .\",\n",
       "  \"now she 'd had one regular dosed margarita and almost a full one of straight alcohol .\",\n",
       "  '`` yes , please .',\n",
       "  'she wagged a finger at him .',\n",
       "  \"thanks for me asking you . ''\",\n",
       "  \"`` i ca n't go home yet .\",\n",
       "  \"`` just so i can sober up ? ''\",\n",
       "  'always the gentleman , pesh opened the door for her , and she collapsed onto the seat .',\n",
       "  \"`` i mean , drunken women a lot ? ''\",\n",
       "  'megan giggled .',\n",
       "  \"`` mmm , pesh , you wan na be my knight in shining armor ? ''\",\n",
       "  \"`` i 'd be anything and everything you wanted me to be , if you would give me the chance . ''\",\n",
       "  \"with a snort , she replied , `` drunk or sober that woulda been a helluva line to hear from a man . ''\",\n",
       "  \"`` do you not sing ? ''\",\n",
       "  \"`` she made out with you , but she would n't sing for you ?\",\n",
       "  'cutting his eyes over to her , he gave her a pained look .',\n",
       "  '`` hey , the ability to get a woman hot is nothing to be ashamed of .',\n",
       "  '`` please .',\n",
       "  'sitting up , she peered out the window at the posh houses of the subdivision they were in .',\n",
       "  \"`` i hope you 'll like the inside just as much . ''\",\n",
       "  \"need some help ? ''\",\n",
       "  \"motioning toward the couch , he said , `` why do n't you have a seat while i fix you some coffee ? ''\",\n",
       "  'it was a good feeling though-one of safety and protection .',\n",
       "  \"she could n't help the little moan that came from deep in her throat .\",\n",
       "  'emma had been right-the man could kiss like there was no tomorrow .',\n",
       "  'he gulped in long breaths of air like he was a dying man deprived of his last breath .',\n",
       "  \"chapter five pesh could n't believe the delicious nightmare he found himself trapped in .\",\n",
       "  \"`` please , '' megan whimpered , as she continued to rise and fall over his erection .\",\n",
       "  'her fingers raked through his hair , tugging desperately on the strands .',\n",
       "  \"he 'd never taken advantage of a woman , and he never would .\",\n",
       "  \"`` because you 're inebriated . ''\",\n",
       "  \"`` the kind of man who wants to get laid ! ''\",\n",
       "  '`` regardless of what you have going on in that head of yours , you are better than this .',\n",
       "  \"i 'll have you begging and pleading , but you 'll be coming so many times you 'll lose count .\",\n",
       "  \"`` i ... '' she began before she quickly clamped her lips shut .\",\n",
       "  \"`` are you all right ? ''\",\n",
       "  'moaning , she covered her face with her hands .',\n",
       "  \"`` can you stand in the shower ? ''\",\n",
       "  'with his free hand , he took one of her hands and pulled it away from her face .',\n",
       "  \"`` but i got drunk ... i never get drunk anymore . ''\",\n",
       "  'he had to fight from taking her in his arms .',\n",
       "  'he nodded .',\n",
       "  \"`` of course . ''\",\n",
       "  \"clearing his throat , he replied , `` done . ''\",\n",
       "  'not wanting to go too far in case megan needed him , he began pacing around the bedroom .',\n",
       "  \"when it opened , pesh 's breath caught .\",\n",
       "  \"`` you 're more than welcome .\",\n",
       "  'then he thought of her text .',\n",
       "  '`` i promise no funny business .',\n",
       "  'he walked over to his massive king-sized bed .',\n",
       "  \"`` i do n't mind .\",\n",
       "  'as he started to go , she reached out to grab his arm .',\n",
       "  'when she nodded , he exhaled a ragged breath .',\n",
       "  'instead , he stripped off his suit and tie .',\n",
       "  'his other hand rested on his chest .',\n",
       "  'then she inched closer to him .',\n",
       "  'for the first time in two years , he fell asleep with someone in his arms .',\n",
       "  'her eyes frantically scanned the room .',\n",
       "  \"what kind of mother was she to wake up in a strange man 's bed ?\",\n",
       "  'nausea overcame her , and she knew she needed to get out of bed and into the bathroom .',\n",
       "  'it took only a second for her to register who she was in bed with .',\n",
       "  \"`` want me to fix you a good hangover cure ? ''\",\n",
       "  \"`` that 's hard to imagine . ''\",\n",
       "  'she gasped in horror .',\n",
       "  \"`` i 'm so sorry . ''\",\n",
       "  'all she knew is she needed to get out of there .',\n",
       "  \"`` i , uh , i need to use the bathroom . ''\",\n",
       "  'after gargling to rid herself of the nasty taste , she eventually dug under the counter for some mouthwash , and then brushed her teeth .',\n",
       "  'when she started for the bedroom door , she abruptly stopped .',\n",
       "  'pesh had an amazing house-one that was far too big for just him .',\n",
       "  \"`` i am . ''\",\n",
       "  \"accidents happen , and i 'm man enough to realize that . ''\",\n",
       "  \"`` that is not what i meant . ''\",\n",
       "  'she shook her head .',\n",
       "  \"just sex , '' she answered honestly .\",\n",
       "  'what he did was even more surprising .',\n",
       "  \"`` thank you , '' she murmured .\",\n",
       "  \"when he pulled into aidan and emma 's driveway , megan felt her stomach clench .\",\n",
       "  '`` most of all , i want to thank you for taking care of me last night .',\n",
       "  'when she dared herself to look at him , she found him staring intently at her .',\n",
       "  'when she was finally able to open the door , she stumbled out onto the pavement .',\n",
       "  'he asked .',\n",
       "  \"`` did pesh hurt you ? ''\",\n",
       "  \"it 's not him , it 's me .\",\n",
       "  'megan stole one last glance of pesh as his car started reversing down the driveway .',\n",
       "  'she pulled into the parking lot of the wellstar er and eased into the first space she found .',\n",
       "  \"she could n't wait until she got her feet wet by working with patients .\",\n",
       "  '`` you must be ms .',\n",
       "  \"i 've taken a look at your transcript , and it 's quite impressive . ''\",\n",
       "  'each time they passed a nurse or a doctor , kristi was quick to introduce megan .',\n",
       "  \"nadeen . ''\",\n",
       "  \"let me introduce you two . ''\",\n",
       "  'the shock and surprise registered on his face as well .',\n",
       "  'the last thing she needed was to get off on the wrong foot with her coworkers .',\n",
       "  'kristi smiled .',\n",
       "  'instead , she turned back to pesh who was staring expectantly at her .',\n",
       "  \"`` sorry , but that does not make me feel any better , '' she grumbled .\",\n",
       "  \"`` no , no , you do n't offend me .\",\n",
       "  \"seeing you just makes me remember all of that . ''\",\n",
       "  'he swallowed hard .',\n",
       "  \"`` that 's very sweet of you , but i have n't changed my mind about dating . ''\",\n",
       "  \"`` i 'm sorry , '' she murmured .\",\n",
       "  \"you are ... you were falling for me ? ''\",\n",
       "  'with a smile , he then turned and walked away .',\n",
       "  \"`` i swear that half of the women here in the er act like they 're in heat whenever he comes around . ''\",\n",
       "  'no , pesh had to want more than she was willing to give .',\n",
       "  \"shaking her head wildly , megan replied , `` no , no , we 're just friends-i do n't feel anything like that for him . ''\",\n",
       "  \"`` hi . ''\",\n",
       "  'megan smiled before her head dipped back down to work on the chart .',\n",
       "  'ask her to dinner , his mind shouted .',\n",
       "  'he gave her a nervous smile .',\n",
       "  \"`` oh , is the good doctor cracking jokes now ? ''\",\n",
       "  'he rolled his eyes at her , something he rarely did until he began spending more and more time in her presence .',\n",
       "  \"`` somewhere that was romantic with candlelight and soft music-perhaps a place where we could dance in between courses . ''\",\n",
       "  \"`` i do believe you 've already been there before . ''\",\n",
       "  \"`` and it would mean all the more that i was getting to share it with you . ''\",\n",
       "  \"i 'm so glad you two are on . ''\",\n",
       "  \"`` ankle , your pupils are huge ! ''\",\n",
       "  \"pesh 's eyes widened .\",\n",
       "  'megan asked .',\n",
       "  '`` when they hooked me up to the fetal monitor , they thought they heard two heartbeats .',\n",
       "  \"at megan 's continued laughter , he shrugged .\",\n",
       "  \"your pupils are definitely a matter of concern . ''\",\n",
       "  \"pesh fought the urge to laugh at the absurdity of the situation as well as aidan 's desperation .\",\n",
       "  'pesh asked .',\n",
       "  \"`` if you 're asking if i 'm nauseated now , the answer would be no .\",\n",
       "  \"`` again , '' pesh instructed .\",\n",
       "  \"`` i 'm confused .\",\n",
       "  \"`` i ca n't be a baby making machine . ''\",\n",
       "  \"after processing pesh 's words , aidan shook his head .\",\n",
       "  \"`` you do n't think your wife needs to know about such a life-altering decision ? ''\",\n",
       "  \"`` pretty much . ''\",\n",
       "  \"sometimes ... i just ca n't get enough of her , and i do n't want to share . ''\",\n",
       "  \"most of all , do n't bottle it up .\",\n",
       "  \"i 'm pretty sure she would not want me being honest about that . ''\",\n",
       "  '`` i would think so .',\n",
       "  \"at the mention of a third child , aidan swallowed hard , his adam 's apple bobbing up and down .\",\n",
       "  \"`` how about i check on your head now ? ''\",\n",
       "  '`` you would be surprised .',\n",
       "  'aidan grinned .',\n",
       "  \"`` i truly respect and admire megan . ''\",\n",
       "  \"are you planning on asking her out ? ''\",\n",
       "  \"does that satisfy your inquisition ? ''\",\n",
       "  \"maybe if you- '' although it was against his character , he let his anger override his better judgment .\",\n",
       "  \"`` i 'm so sorry . ''\",\n",
       "  \"`` you have to keep trying , no matter what . ''\",\n",
       "  'not deeply where her needs were considered .',\n",
       "  'when aidan started to argue , pesh shook his head .',\n",
       "  \"emma 's eyes widened in fear .\",\n",
       "  'before he sat down , aidan leaned over to kiss emma .',\n",
       "  \"`` nothing can keep me down-you should know that by now . ''\",\n",
       "  \"`` why do n't you show emma to one of the family waiting rooms ? ''\",\n",
       "  'chapter nine two days later when megan came in for a later shift , she found the emergency room in a state of chaos .',\n",
       "  \"`` so get ready to be on your toes today . ''\",\n",
       "  '`` hey janet , could you not call anyone else back ?',\n",
       "  \"it 's probably another full moon , which makes things absolutely insane . ''\",\n",
       "  \"`` i 've seen you in action the last week .\",\n",
       "  'when she pushed open the door , she eyed the man on the examining table .',\n",
       "  'a male doctor .',\n",
       "  \"i demand to see a male doctor . ''\",\n",
       "  \"when he did n't respond , she sighed with frustration .\",\n",
       "  'the first time she had the chance to see a patient on her own , and he had to be a stark raving lunatic .',\n",
       "  'my .',\n",
       "  \"`` the excessive blood in your penis ? ''\",\n",
       "  'when he started to protest , she brought her hand up .',\n",
       "  'when she whirled out of the room , she ran right into the last person she wanted to have to deal with at the moment .',\n",
       "  \"that 's wonderful . ''\",\n",
       "  \"`` oh , it 's nothing .\",\n",
       "  'although it was strictly against the nursing code , she would have loved nothing more than to have throttled mr. robertson right then and there .',\n",
       "  'with a sheepish expression , he replied .',\n",
       "  'she had hardly imagined his level of professionalism would allow him to be embarrassed about a medical condition .',\n",
       "  \"`` cialis . ''\",\n",
       "  'pesh glanced over at megan .',\n",
       "  \"megan bit down on her lip to keep from laughing at the expression on pesh 's face .\",\n",
       "  \"`` five and a half hours . ''\",\n",
       "  'with a gulp , mr. robertson replied , `` fine .',\n",
       "  \"`` thank you , '' pesh said , as he took the medication from her .\",\n",
       "  \"`` what 's that ? ''\",\n",
       "  \"`` then she made a good call . ''\",\n",
       "  \"each time he grimaced , megan imagined that the shot was n't working and the swelling had n't gone down .\",\n",
       "  \"`` i 'm sorry , mr. robertson , but it looks like this is our only choice . ''\",\n",
       "  'megan fought the urge to roll her eyes at his suggestion .',\n",
       "  'pesh tossed the syringe into the biohazard container and then turned around .',\n",
       "  \"`` okay , i will . ''\",\n",
       "  '`` are you sure ?',\n",
       "  'instead , she ducked into the break room to grab her purse .',\n",
       "  'realizing what he was intending , she slowly shook her head back and forth .',\n",
       "  \"`` besides , how can i possibly have romance on my mind when i just held another man 's penis in my hands ? ''\",\n",
       "  \"just take me as i am , '' pesh suggested .\",\n",
       "  '`` doctors and nurses often have dinner together on their breaks .',\n",
       "  '`` my career means everything to me .',\n",
       "  '`` the good doctor seems speechless .',\n",
       "  \"`` a man high on meth walking into the er with his penis in his hand is probably the craziest . ''\",\n",
       "  '`` we got him sedated and into surgery as soon as we could .',\n",
       "  \"`` i think we 've established that i have n't been privy to many priapism cases , but yes , any time there is an issue with the penis that is not related to the urethra or bladder , you would ask those questions . ''\",\n",
       "  \"you know , show me what you 've learned ? ''\",\n",
       "  'as he took his change , she shot him a look .',\n",
       "  'trailing pesh , she watched as he made his way over to a table filled with doctors and nurses .',\n",
       "  \"`` thank you . ''\",\n",
       "  \"`` do you have trouble obtaining an erection ? ''\",\n",
       "  \"`` do you have trouble maintaining an erection ? ''\",\n",
       "  '`` i see .',\n",
       "  \"for that to be your first case on your own , you managed to keep yourself together and to give the patient the best level of diagnosis and care you could . ''\",\n",
       "  \"`` i do n't know about that . ''\",\n",
       "  \"`` it has n't been long , but i have been happy here .\",\n",
       "  \"`` i hope so . ''\",\n",
       "  \"`` i know it would make me very happy to have you here , and i would do everything within my power to ensure you stayed . ''\",\n",
       "  '`` oh come on .',\n",
       "  \"`` i 'm starting to believe you , '' she replied , with a smile .\",\n",
       "  \"`` thank you for dinner , '' she said .\",\n",
       "  \"so she was thrilled when emma called her asking if she wanted to join her for a girl 's day .\",\n",
       "  'emma answered the door with noah on her hip .',\n",
       "  \"that 's where aidan was lounging on the couch with beau on the floor next to him .\",\n",
       "  \"`` hey , how are you ? ''\",\n",
       "  \"`` yeah , with two kids under two , let 's see how much fun you 'll have . ''\",\n",
       "  \"cocking her head , she teasingly asked , `` and when is the ultrasound to confirm the youngest fitzgerald granddaughter is on her way ? ''\",\n",
       "  \"`` i just think it 's cool that i 'll be the oldest granddaughter , and she 'll be the youngest . ''\",\n",
       "  \"`` payback is a bitch , '' she mused .\",\n",
       "  \"mason glanced up from lumbering around the room on beau 's back .\",\n",
       "  'seeing her once man-whore uncle now a loving , devoted husband and father was always surprisingly unnerving .',\n",
       "  \"`` so what should we do first ? ''\",\n",
       "  \"`` i hope you do n't mind that casey is meeting us for lunch ? ''\",\n",
       "  'then they walked around the corner to the nail salon .',\n",
       "  'a round of hugs was exchanged between the three women .',\n",
       "  'once they eased into a familiar , comfortable booth , they took stock of the menus .',\n",
       "  \"`` sometimes i think he 's the chick in this relationship . ''\",\n",
       "  'that statement made emma beam .',\n",
       "  \"with her dark eyes widening , casey huffed , `` and what if it 's my daughter that your son is corrupting ? ''\",\n",
       "  'megan asked , with a smile .',\n",
       "  'emma nibbled on her bottom lip before speaking .',\n",
       "  'it was almost too mortifying to repeat , but finally , she filled casey in on each and every embarrassing detail that had happened .',\n",
       "  \"there are so few gentlemen left on the planet . ''\",\n",
       "  'megan twirled the straw in her diet coke thoughtfully .',\n",
       "  \"`` but would n't you have sex eventually if you were dating ? ''\",\n",
       "  'megan widened her eyes in surprise .',\n",
       "  \"`` i 'd certainly hope not . ''\",\n",
       "  \"`` deep down , you like him , do n't you ? ''\",\n",
       "  \"because even though you 'd kill to know how well he uses his wang , you 're even more intrigued about what being loved by him would be like . ''\",\n",
       "  \"it just would n't look good on my record .\",\n",
       "  'emma asked .',\n",
       "  'as megan raised her brows skeptically , casey snorted .',\n",
       "  '`` so what was it ?',\n",
       "  'hmm , that was fun .',\n",
       "  \"`` thank you , '' megan and emma replied in unison .\",\n",
       "  \"then he can take it out on her later ... in the bedroom . ''\",\n",
       "  'a beaming smile lit up his face as he stared across the room at the gurney .',\n",
       "  'each one was an experience he treasured .',\n",
       "  '`` hey there .',\n",
       "  \"`` i 'm better now that i 've seen you , '' she replied .\",\n",
       "  \"he had made out with her in his car under the faded lights of the bar 's neon sign .\",\n",
       "  \"i really , really need a night out with you again . ''\",\n",
       "  'with her head ducked , she started past them .',\n",
       "  'just walking with you .',\n",
       "  \"`` just what do you mean ? ''\",\n",
       "  '`` yes , i am a gentleman both in public and private .',\n",
       "  \"`` when i am truly committed to a woman , i have trouble keeping my hands off her regardless of where we are . ''\",\n",
       "  \"he eased down on a stool and immersed himself in the paperwork , so he did n't have to think about megan .\",\n",
       "  'his youngest brother , dev , stalked toward him with a stormy expression plastered on his face .',\n",
       "  'what followed was a three-year courtship and then engagement .',\n",
       "  'shaking his head furiously , dev said , `` i just got a f**king blow off text from mia .',\n",
       "  \"`` i ca n't believe it . ''\",\n",
       "  \"`` i 'm sorry , but i had to do what was best for mia . ''\",\n",
       "  \"`` this is not the time nor the place to be having this discussion , '' pesh growled .\",\n",
       "  \"you and i both know you can not be faithful to a woman . ''\",\n",
       "  \"`` of course i 'm not .\",\n",
       "  \"`` you ... you f**king bastard ! ''\",\n",
       "  \"he could n't bear if dev hurt her in his anger just because she had taken up for him .\",\n",
       "  \"instead , megan 's fist cracked into dev 's jaw .\",\n",
       "  \"`` you 're bleeding ! ''\",\n",
       "  'she started leading him over to one of the examining rooms , but he jerked back .',\n",
       "  \"`` really , megan , this is n't necessary . ''\",\n",
       "  'he teased .',\n",
       "  \"did that mean she questioned his manhood since he did n't go toe-to-toe with his brother ?\",\n",
       "  \"`` no , i 'm fine . ''\",\n",
       "  \"`` no shit . ''\",\n",
       "  '`` i heard the name mia .',\n",
       "  'he shrugged .',\n",
       "  \"`` i do n't know about that , '' he murmured .\",\n",
       "  'part of him wanted to rail at her for not seeing him like all the other women did .',\n",
       "  '`` not just any drummer .',\n",
       "  \"`` not runaway train ? ''\",\n",
       "  '`` that is so wild .',\n",
       "  \"`` it was nothing . ''\",\n",
       "  'she grinned .',\n",
       "  \"he had n't known a lot of women like her .\",\n",
       "  \"`` i 'm very sorry . ''\",\n",
       "  'a chaste kiss to alleviate her pain was all he could really offer .',\n",
       "  \"`` and you should probably ice your hand during your break tonight . ''\",\n",
       "  'each day , she spent more and more time with pesh .',\n",
       "  'immediately , her entire body switched gears as she prepared herself for what she might face .',\n",
       "  \"`` i guess it would be wrong to say it 's nice to meet you , huh ? ''\",\n",
       "  \"`` my arm is broken ? ''\",\n",
       "  \"`` hello , mary , i 'm dr. nadeen .\",\n",
       "  'pesh pulled back the hospital gown .',\n",
       "  'it started at her neck and crossed over her chest .',\n",
       "  '`` trust me .',\n",
       "  \"trading places with pesh , she started another iv in the crook of mary 's right elbow .\",\n",
       "  \"pressing on mary 's abdomen , pesh asked , `` does this hurt ? ''\",\n",
       "  \"`` i 'm going to do a quick ultrasound , mary .\",\n",
       "  'turning to kristi , he said , `` call the or .',\n",
       "  \"we 're going to get you into surgery , and then you 'll be good as new . ''\",\n",
       "  \"`` we 're getting in the elevator to take you to the or for surgery , '' she replied .\",\n",
       "  'what the hell were they supposed to do ?',\n",
       "  \"pesh barked , as his hands pumped in a manic pace up and down on mary 's chest .\",\n",
       "  \"she 's bleeding from the mouth . ''\",\n",
       "  \"`` she 's gone . ''\",\n",
       "  \"jerking his head up from mary , pesh snarled , `` get the f**king cart ! ''\",\n",
       "  \"mary 's chest jolted off the gurney with the force of the electricity .\",\n",
       "  \"megan could n't hold back the gasp that escaped her at pesh calling mary by his late wife 's name .\",\n",
       "  \"`` i 'll go notify the family , '' pesh murmured .\",\n",
       "  'megan knew there was no point in arguing with him or trying to get one of the residents to take his place .',\n",
       "  \"somehow he had seen his wife in mary , and once again , he was n't able to save her .\",\n",
       "  \"megan 's brows shot up in surprise .\",\n",
       "  'megan finished for kristi .',\n",
       "  \"`` um , if it 's okay , i think i 'll go ahead and take my dinner break . ''\",\n",
       "  'after a brisk walk down the hall , she got to the authorized personnel only stairwell .',\n",
       "  'would pesh be an emotional mess ?',\n",
       "  'his usual ramrod straight posture was slumped , his broad shoulders drawn in .',\n",
       "  'even in the darkness , she could see a blood-red flush entering his cheeks .',\n",
       "  \"`` kristi told me . ''\",\n",
       "  \"you 're in pain ... you 've been in pain .\",\n",
       "  \"`` do n't what ? ''\",\n",
       "  \"`` no , it's- '' she silenced him by bringing her hand up to cover his lips .\",\n",
       "  \"when death comes , you ca n't help feeling for the life that has been lost and for the family members left behind . ''\",\n",
       "  \"she was adopted , so she did n't know anything really about her family history .\",\n",
       "  'so we were recommended to a fertility clinic .',\n",
       "  \"`` bless her heart , '' megan murmured , as her heart went out to a woman she 'd never met .\",\n",
       "  \"`` so what happened with the ivf ? ''\",\n",
       "  \"i was in the kitchen making breakfast when i heard a crash in the bedroom . ''\",\n",
       "  'without looking at her , he continued staring straight ahead .',\n",
       "  \"`` yes , that is true , '' he said , in a hushed whisper .\",\n",
       "  \"`` you have to remember that no matter what happened to your wife , and to mary , it was n't your fault .\",\n",
       "  'her eyelids fluttered to keep the moisture out of her eyes as she gazed up at him .',\n",
       "  'now her senses were heightened , and she could experience exactly what she was feeling .',\n",
       "  'this was like lovemaking with their mouths , and she never wanted it to end .',\n",
       "  \"`` please , just go . ''\",\n",
       "  \"her eyes widened at megan 's appearance .\",\n",
       "  'when you finish drying off , i could really use you in the supply closet doing inventory .',\n",
       "  'was pesh okay ?',\n",
       "  \"`` no , he 's not .\",\n",
       "  'she was practically washed out except for her lips .',\n",
       "  'what was his problem ?',\n",
       "  'his mind was a jangled mess of thoughts and emotions .',\n",
       "  'after pounding downstairs , he searched the hallway for any signs of megan .',\n",
       "  'kristi eyed him up and down before shaking her head .',\n",
       "  '`` nothing .',\n",
       "  'after swiping his key card , he entered the room .',\n",
       "  \"her response was n't what he was expecting at all .\",\n",
       "  'she shook her head .',\n",
       "  '`` sexually .',\n",
       "  \"he had never been that way with women , and he did n't see how it could be possible to change .\",\n",
       "  'he licked his lips and took a step toward her .',\n",
       "  'we both know that .',\n",
       "  'there was only one way he was going to get to have his sweet megan , and that was if he gave in to her .',\n",
       "  'he drew in a ragged breath .',\n",
       "  \"`` yeah , about ... '' she swallowed hard .\",\n",
       "  'crossing his arms over his chest , he countered , `` oh really ?',\n",
       "  \"she licked her lips before replying , `` s-stop saying that word-it is n't you . ''\",\n",
       "  \"`` but you do n't say things like that .\",\n",
       "  \"`` i 'm giving you what you want . ''\",\n",
       "  'as his tongue thrust into her mouth , his hand came to her breast .',\n",
       "  \"`` what about someone finding us ? ''\",\n",
       "  'he asked , with a smile .',\n",
       "  'his hands gripped her flesh , urging her upward .',\n",
       "  'his fingers jerked her hair back , pulling her lips back from his .',\n",
       "  'now that he had her right where he wanted her , it was time to put his plan into motion .',\n",
       "  'through the thin scrap of her thong , his hand caressed her , causing her to whimper .',\n",
       "  \"god , yes , i do . ''\",\n",
       "  'as his fingers sped up their tempo against her clit , her head fell back against the wall .',\n",
       "  \"`` fine what ? ''\",\n",
       "  'when he had them down to her ankles , he rose back up .',\n",
       "  \"when he slid his tongue slowly up megan 's wet slit , they both shuddered .\",\n",
       "  'it had been a long time for her as well .',\n",
       "  \"when megan 's walls finishing clenching and pulsing , pesh removed his tongue from inside her .\",\n",
       "  \"i ca n't even feel my legs right now . ''\",\n",
       "  \"`` i mean , that i 've never gotten off like that . ''\",\n",
       "  \"`` you really are something else , you know that ? ''\",\n",
       "  \"`` do you always get like that when it comes to sex ? ''\",\n",
       "  'he rubbed his hands over his face .',\n",
       "  'what had he said to her in the heat of the moment ?',\n",
       "  'she wrapped her legs around his waist and drew him closer to her .',\n",
       "  \"`` i owe you at least a happy ending after those multiple orgasms you just gave me . ''\",\n",
       "  \"`` you 're a bad boy trying to trick me . ''\",\n",
       "  'he started to laugh at her remark , but when she gripped him in her hand , he gasped .',\n",
       "  \"just for me , right ? ''\",\n",
       "  'the dirty talk , coupled with the way she had her hand on him , caused him to tighten up .',\n",
       "  'she smiled dreamily at him .',\n",
       "  \"`` i 'll go out first .\",\n",
       "  \"`` when is what ? ''\",\n",
       "  \"`` no , i was n't being fair .\",\n",
       "  'his heartbeat sped up .',\n",
       "  \"`` okay , then let 's do it saturday . ''\",\n",
       "  \"`` i 'm not sure i like the sound of that . ''\",\n",
       "  \"`` okay , i think i can do that . ''\",\n",
       "  'her breath warmed his cheek before she glanced up into his eyes .',\n",
       "  \"`` behave yourself , '' he replied , before he headed to the door .\",\n",
       "  'glancing at her phone one more time , she cringed .',\n",
       "  'he shrugged .',\n",
       "  \"`` not exactly , '' she replied , as she went to grab her purse .\",\n",
       "  \"`` since when did you become the love guru ? ''\",\n",
       "  'she found her dad lounging in his chair with mason snuggled to his side .',\n",
       "  \"this was one question she had n't anticipated explaining .\",\n",
       "  'taking a deep breath , she opened it .',\n",
       "  \"`` would you like to come in ? ''\",\n",
       "  \"`` bye-bye kiss , mommy ! ''\",\n",
       "  'she deposited the roses onto one of the tables .',\n",
       "  \"`` bye , my love , '' megan said , before turning and heading out of the room .\",\n",
       "  \"`` no go , '' he whimpered .\",\n",
       "  \"`` no go ! ''\",\n",
       "  'megan shook her head .',\n",
       "  \"`` why do n't we take mason to lunch at his favorite place ? ''\",\n",
       "  'she fought the urge to reach out and touch his shoulder to make sure he was real-he was far too good to be true at times .',\n",
       "  \"`` all right , buddy , where do you want to go for lunch ? ''\",\n",
       "  \"`` no , he wants to go to chuck e. cheese-every parent 's worst nightmare . ''\",\n",
       "  \"`` honestly , i do n't mind .\",\n",
       "  '`` thank you .',\n",
       "  'when she finished , mason bounded over to pesh and grabbed his hand .',\n",
       "  'she also fought her embarrassment at the looks she and pesh were getting for their more formal outfits .',\n",
       "  \"`` i 'll go grab us some pizza . ''\",\n",
       "  \"`` okay then , '' he replied good-naturedly .\",\n",
       "  \"`` this place is very interesting , '' pesh remarked , as he gazed around .\",\n",
       "  'he smiled before taking a bite of his pizza .',\n",
       "  \"`` mmm , that 's good pizza .\",\n",
       "  \"go play , '' mason announced , bringing her out of her thoughts .\",\n",
       "  'as megan watched them , the small ache in her chest began to grow .',\n",
       "  \"mason 's face scrunched up , and he looked like at any minute he might throw a tantrum to stay .\",\n",
       "  \"his words sent a broad grin stretching across pesh 's face .\",\n",
       "  'instead , she just enjoyed his touch .',\n",
       "  \"`` for just a little while longer . ''\",\n",
       "  \"`` have patience . ''\",\n",
       "  \"`` no , i do n't .\",\n",
       "  \"`` no , we 're not . ''\",\n",
       "  \"`` i 'm going to have to change your mind on that one . ''\",\n",
       "  \"`` for now at least , '' he said , with a wink .\",\n",
       "  \"even though she had known he had a plane from how he 'd helped get aidan to noah 's delivery , she could n't believe their date included something as unique as flying .\",\n",
       "  \"`` by your lack of being able to withhold gratification , i 'm assuming you 've never partaken in any tantric sex ? ''\",\n",
       "  'pesh only chuckled at her response .',\n",
       "  \"`` yes , i suppose so , '' he replied , as he offered her his hand .\",\n",
       "  \"`` so it 's not about marathon sex that lasts for days ? ''\",\n",
       "  \"`` hey , dr. nadeen , how goes it ? ''\",\n",
       "  \"pesh 's gaze went to megan before he said , `` we 'll be flying into savannah/hilton head airport . ''\",\n",
       "  '`` this is crazy .',\n",
       "  'crossing her arms over her chest , she tilted her head at him .',\n",
       "  'she patted her chest .',\n",
       "  'she sucked in a breath at his words .',\n",
       "  \"he was right in the fact that she settled for being the 'sure thing ' for the guys she dated in the past .\",\n",
       "  'she nodded before she dipped inside the plane .',\n",
       "  \"`` i never took you as the type of woman who worried about her hair . ''\",\n",
       "  \"`` so what kind of plane is this ? ''\",\n",
       "  'the plane lurched forward and then started taxing down the runaway .',\n",
       "  'megan knew what he meant when the plane started gaining speed down the runaway .',\n",
       "  \"this is amazing . ''\",\n",
       "  \"`` total wuss , '' she remarked with a smile .\",\n",
       "  \"she was that sacrificing . ''\",\n",
       "  \"`` do you like the historic district ? ''\",\n",
       "  \"`` i do , '' he replied , with a smile .\",\n",
       "  \"you see a lot more of the ground rushing at you than when you 're in a 747 . ''\",\n",
       "  \"not anymore . ''\",\n",
       "  'pesh gave her a small smile before radioing the tower .',\n",
       "  \"`` never better . ''\",\n",
       "  \"`` what ? ''\",\n",
       "  \"she 'd been too nervous to eat breakfast , and then she had n't dared eat at chuck e. cheese 's .\",\n",
       "  \"`` wine ? ''\",\n",
       "  \"glancing over his menu at her , pesh said , `` with the cuisine being southern , i imagined you would like it . ''\",\n",
       "  'when megan grinned at him , his brows rose .',\n",
       "  \"`` really ? ''\",\n",
       "  '`` prove me wrong on this one .',\n",
       "  \"emma had never eaten any indian food , and i do n't think i made a good impression on her . ''\",\n",
       "  'she swirled the wine around in her glass .',\n",
       "  'but once they were alone together , he smiled .',\n",
       "  'he dabbed his mouth with his napkin .',\n",
       "  \"`` let 's just say , during a very heated moment together , she was with aidan , and i was with jade . ''\",\n",
       "  \"`` that 's really beautiful , '' megan murmured .\",\n",
       "  \"`` it is when you ca n't save someone , and you have to constantly live with the guilt . ''\",\n",
       "  \"never , '' she replied .\",\n",
       "  \"after chewing thoughtfully on her bite of salad , megan said , `` but you 're built like a football player . ''\",\n",
       "  'he questioned .',\n",
       "  \"with a rueful smile , she added , `` at least i got mason out of that one . ''\",\n",
       "  \"at the mischievous twinkle in pesh 's eyes , megan burst out laughing .\",\n",
       "  \"do n't pigeon hole you . ''\",\n",
       "  'he always seemed fascinated by every single thing she had to say , which was quite a change from most of the guys she dated .',\n",
       "  'she wrinkled her nose .',\n",
       "  'pesh stuffed a wad of bills into the bill envelope .',\n",
       "  \"i think that 's pretty intimate , '' she challenged .\",\n",
       "  \"she did n't know why she just could n't get up and go dance like he had asked .\",\n",
       "  \"i 'll dance with you . ''\",\n",
       "  'a lone piano pounded out the opening chords .',\n",
       "  \"when she did , he tasted like a mixture of the wine and spices they 'd eaten .\",\n",
       "  'it was like he was trying to see through her to her very soul .',\n",
       "  \"shaking his head , he replied , `` i ca n't deny you anymore , not after having a taste of you . ''\",\n",
       "  'once he retrieved his wallet , he stepped up to the desk .',\n",
       "  'the man typed something into the computer .',\n",
       "  'taking her by the hand , pesh led her over to the elevators .',\n",
       "  \"`` you do n't seriously think that ? ''\",\n",
       "  'she tapped her chin with her finger .',\n",
       "  'they stepped out and read the signs to find their room .',\n",
       "  \"`` i 'm fine . ''\",\n",
       "  \"`` you do n't have anything to feel nervous about .\",\n",
       "  'slowly , he slid it down .',\n",
       "  'for some reason , she felt the urge to blush at his words .',\n",
       "  'it trailed down over his washboard abs and down into his pants .',\n",
       "  'his hand cupped her cheek .',\n",
       "  \"`` breathe me in , '' he instructed , as he kneaded her breast over her bra .\",\n",
       "  'she jerked her head back to stare at him in surprise .',\n",
       "  \"i want to do whatever is pleasing for you . ''\",\n",
       "  'she began to rock her h*ps against his hand , adding the friction she desired .',\n",
       "  \"`` now , pesh , '' she urged .\",\n",
       "  'he rubbed the stubble on his cheeks .',\n",
       "  \"`` sorry . ''\",\n",
       "  \"`` no . ''\",\n",
       "  \"`` i 'll still pull out . ''\",\n",
       "  \"`` i 'm fine . ''\",\n",
       "  'the longer she stared into his eyes , the more connected with him she felt .',\n",
       "  'while their connection at first had been so intimate , this was more about lust and desire .',\n",
       "  'with each thrust , he went deeper and deeper .',\n",
       "  'dropping her head , she screamed into the mattress as she found her release .',\n",
       "  'she turned her head and met his gaze .',\n",
       "  \"i could say the same about you . ''\",\n",
       "  'he wanted her to be his .',\n",
       "  \"`` yes , i do believe that was the universal `` it '' that we just did , '' he teased .\",\n",
       "  \"the truth was she 'd never really had casual sex before .\",\n",
       "  'for megan , her experience with pesh was seriously earth shattering and life altering .',\n",
       "  'she slid over to him before throwing a leg over the side of the mattress .',\n",
       "  'he pointed to the detachable shower head .',\n",
       "  \"`` did i feel different ? ''\",\n",
       "  \"`` you felt amazing . ''\",\n",
       "  \"`` i want nothing more than to be back inside you as soon as i can . ''\",\n",
       "  'then he flicked his wrist to the side , sending the jets of water pounding into her clit .',\n",
       "  'she pinched her eyes shut from the sensory overload .',\n",
       "  'she groaned at the loss .',\n",
       "  \"`` wow ? ''\",\n",
       "  'bending her head , she began trailing kisses down his wet chest .',\n",
       "  'she took him as far back as she could before sliding him out .',\n",
       "  'when he started tightening up , he tried to pull away , but she gripped his thighs and held him in place .',\n",
       "  \"`` we better hurry up before we use all the hot water in these old pipes . ''\",\n",
       "  'once she finished , he helped her slide back into her dress .',\n",
       "  \"make sure to call me again next time you 're in savannah .\",\n",
       "  'after shoving the hotel bill into his suit pocket , he slid his arm around her waist , drawing her close against him .',\n",
       "  \"`` no , i 'm not . ''\",\n",
       "  \"`` if one truly knows how to f**k , you do n't need any accessories and embellishments . ''\",\n",
       "  \"`` to your bed ? ''\",\n",
       "  \"but there was a part of megan that did n't want the bubble to burst by leaving pesh and going home to her regular life .\",\n",
       "  'he sat as close to her as he could with her hand clasped in his .',\n",
       "  \"`` you do ? ''\",\n",
       "  \"`` you would ? ''\",\n",
       "  \"why not ? ''\",\n",
       "  \"she was actually up in pesh 's plane during her first flight lesson .\",\n",
       "  \"when pesh had first offered to give her flying lessons , megan did n't know if she should believe him or not .\",\n",
       "  \"a man like him made it too hard for any woman not to fall in love with him , and as much as she did n't want to acknowledge it , she could see herself falling for him .\",\n",
       "  \"but besides the naughty sexcapade , he 'd wanted to spend down time with her and mason .\",\n",
       "  \"the fact that pesh was so willing to do anything to make mason happy was slowly starting to crack megan 's tough resolve against dating him .\",\n",
       "  \"`` still doing okay over there ? ''\",\n",
       "  \"`` it is n't dopey .\",\n",
       "  '`` i need my hand back .',\n",
       "  '`` all right .',\n",
       "  'pesh leaned forward in his seat , peering out the windshield .',\n",
       "  \"`` which way should i turn the plane ? ''\",\n",
       "  'she did as she was told and waited for him to give her any further instructions .',\n",
       "  \"`` would you like to have dinner with me ? ''\",\n",
       "  \"`` no , i want you for dessert . ''\",\n",
       "  '`` he really likes being with you , too .',\n",
       "  \"once she got through the landing checks with pesh 's help , they were getting closer to mccollum .\",\n",
       "  \"`` this is cessna 172 coming in for landing . ''\",\n",
       "  \"`` yes and no , '' pesh replied .\",\n",
       "  \"you know when you 're in a car and you 're going downhill , you pick up speed ? ''\",\n",
       "  \"`` we 're slowing down . ''\",\n",
       "  'megan eased on the steering wheel until the nose of the plane dipped below the horizon .',\n",
       "  'megan turned the steering wheel to the right a little too abruptly .',\n",
       "  'it was one thing taking off , but it seemed like there was so much more that could go wrong when landing .',\n",
       "  \"it 's too scary . ''\",\n",
       "  \"`` really ? ''\",\n",
       "  'after taking a deep breath , she felt herself slowly calming down .',\n",
       "  'it was a little harder considering how sweaty her hands were .',\n",
       "  \"we 're fine .\",\n",
       "  \"`` now you 're going to bring it back into the hanger . ''\",\n",
       "  \"i think you can handle pulling into a hanger . ''\",\n",
       "  'she turned the wheel to the right and began easing her foot down on the brake when she saw the hangers come into view .',\n",
       "  'pesh shook his head .',\n",
       "  '`` looks good to me .',\n",
       "  \"pesh 's hand reached out to rub her shoulder .\",\n",
       "  \"pesh 's warm laugh made her tingle in parts it should n't .\",\n",
       "  'greedily her mouth devoured his lips .',\n",
       "  \"`` i 'm fine . ''\",\n",
       "  \"`` how are we going to do this ? ''\",\n",
       "  '`` pocket .',\n",
       "  'she gripped his shoulders , pushing against him to keep from knocking back into the seat .',\n",
       "  \"`` are you okay ? ''\",\n",
       "  \"nadeen ? ''\",\n",
       "  \"it probably did n't help that as trace was talking , she had noticed that the windows of the plane were fogged up .\",\n",
       "  \"trace 's gaze left pesh 's and came to hers .\",\n",
       "  \"let 's go before we get in any more trouble . ''\",\n",
       "  'after a few heated moments , pesh pulled away .',\n",
       "  'he laughed .',\n",
       "  'she began , as the door was slammed behind her .',\n",
       "  \"nadeen . ''\",\n",
       "  \"`` me ? ''\",\n",
       "  \"not only do i have two daughters around your age , but i 've spent enough time working with women to have a pretty good insight into the female mind .\",\n",
       "  '`` fine .',\n",
       "  \"`` i realize that deep down he 's just a man , and after going a long time without sex , it was probably a little easier for him to give in to just a causal relationship with you .\",\n",
       "  \"she could n't help staggering a bit on her feet .\",\n",
       "  \"i do n't know what has happened since that day , but i know something has changed for you , too . ''\",\n",
       "  \"`` yes , '' she whispered .\",\n",
       "  'when she finally had a hold of herself , she raised her head , wiping what she imagined were the hideous black mascara streaks off her face .',\n",
       "  \"you always keep your emotions in check out on the floor . ''\",\n",
       "  'there was no judgment in her eyes or anger for that matter .',\n",
       "  'kristi patted her back .',\n",
       "  \"`` but i should n't .\",\n",
       "  'finally , she just gave a defeated sigh .',\n",
       "  'although she spoke the words with such conviction of character , megan was afraid it was going to be harder than she thought .',\n",
       "  'he had just chalked it up to the fact that they were sitting with some of the other staff and she was trying not to make things seem weird with them now .',\n",
       "  \"`` want me to walk you out ? ''\",\n",
       "  '`` so did i .',\n",
       "  \"pesh 's steps momentarily faltered , and he stumbled .\",\n",
       "  \"`` what you 're alluding to between me and megan ?\",\n",
       "  \"i think it 's a good match for both you and her . ''\",\n",
       "  '`` same to you , dr. nadeen .',\n",
       "  'after he dialed , he anxiously drummed his fingers on the steering wheel .',\n",
       "  '`` hello .',\n",
       "  \"`` yes , i am . ''\",\n",
       "  'when the door closed , pesh debated going straight to his car .',\n",
       "  'she demanded .',\n",
       "  \"kristi and i were worried about you . ''\",\n",
       "  '`` but you look so pale .',\n",
       "  \"`` i do n't have the flu .\",\n",
       "  \"`` i 'm sorry to have embarrassed you , '' megan said .\",\n",
       "  '`` thank you , pesh .',\n",
       "  'mason tilted his chin to look up at megan .',\n",
       "  'megan smiled .',\n",
       "  \"in one chair , megan 's textbooks and papers were strewn around , while on the floor it looked like a tornado had blown through the living room with all the toys lying around .\",\n",
       "  'megan cocked her head and shot him a look .',\n",
       "  \"`` mmm , hmm , '' he murmured , barely looking up at his mother from one of his toys .\",\n",
       "  'the microwave beeped and brought him out of his thoughts .',\n",
       "  'he asked .',\n",
       "  '`` thanks .',\n",
       "  'when she pulled away , she grinned at his speechlessness .',\n",
       "  'hopping down off his chair , mason ran over to the tv .',\n",
       "  \"`` is it your favorite ? ''\",\n",
       "  'the sound of a fork clattering on a plate brought pesh out of his thoughts .',\n",
       "  'instead , he just embraced the feeling and let happiness override the doubt that screamed in his mind .',\n",
       "  'she either had to let go of pesh , or she had to make things official with him .',\n",
       "  'after she toweled off and wrapped herself in her terry cloth robe , she went out into the bedroom .',\n",
       "  'they both were .',\n",
       "  'besides her own happiness , there was nothing more in the world that she wanted than for mason to be safe and happy .',\n",
       "  'she loved spending time with him .',\n",
       "  \"`` hi . ''\",\n",
       "  \"besides , i took too long in the tub . ''\",\n",
       "  \"`` good night , little man , '' pesh replied .\",\n",
       "  \"`` good . ''\",\n",
       "  'his brows rose in surprise .',\n",
       "  '`` you coming over here tonight made me realize something very important .',\n",
       "  \"`` then what are you trying to say ? ''\",\n",
       "  \"`` you want us to be an official couple ? ''\",\n",
       "  'trust me .',\n",
       "  'he nodded .',\n",
       "  \"`` the first date will be to the fox to see an opera . ''\",\n",
       "  'she questioned in a whisper .',\n",
       "  \"as they lapsed into silence , megan 's fingers wound through the hair at the base of his neck .\",\n",
       "  \"he 's going to be seeing a lot of you . ''\",\n",
       "  'as she sat on the edge of the mattress , she watched as pesh stripped down to his boxer shorts .',\n",
       "  'but for how everything between them had worked out .',\n",
       "  'on her off days and his , they spent every second together .',\n",
       "  'for just a moment , his gaze met hers , and although no one else could have possibly noticed it , she saw the longing and the affection .',\n",
       "  'when she glanced down at it , she grinned .',\n",
       "  'she questioned .',\n",
       "  'megan eyed his text thoughtfully .',\n",
       "  'i know .',\n",
       "  'she had managed to keep her distance from her at work , but lately , she noticed that kara had been creeping around , staring at her .',\n",
       "  '`` fine .',\n",
       "  \"and i do n't like it . ''\",\n",
       "  'kara jerked her chin in the air .',\n",
       "  \"but more than not wanting to be a sex toy , i imagine you would n't want to do anything to harm your future career . ''\",\n",
       "  'pesh jerked his head up at the loud bang behind him .',\n",
       "  'she glared at him .',\n",
       "  \"`` he claims she's- '' megan paused to make air quotes with her fingers , `` just a friend .\",\n",
       "  'pesh chuckled at her summation .',\n",
       "  '`` it sounds to me like patrick has found a good woman who loves him and his family .',\n",
       "  \"`` it comes with age , '' he replied , with a wink .\",\n",
       "  'his brows rose in surprise .',\n",
       "  \"`` excuse me ? ''\",\n",
       "  \"this was one area of questioning he had n't bargained on ever having to answer .\",\n",
       "  'he put down the spatula and turned off the stove .',\n",
       "  \"megan 's eyes widened .\",\n",
       "  'he gave a mirthless laugh .',\n",
       "  \"`` but do n't you see the difference ?\",\n",
       "  \"i should n't have said that . ''\",\n",
       "  \"`` look , it 's not the fact that she said you were using me for sex that has me so upset . ''\",\n",
       "  \"a low growl erupted from pesh 's chest .\",\n",
       "  'pesh watched megan fidget on her feet while nibbling on her bottom lip .',\n",
       "  \"`` i 'm thinking there 's a 'but ' coming that i 'm not going to like . ''\",\n",
       "  \"`` hey now , do n't you worry one bit about getting into trouble .\",\n",
       "  '`` come on .',\n",
       "  'megan glanced at the glass and then back at him .',\n",
       "  'he walked around the counter again .',\n",
       "  \"`` while i finish dinner for us , you need to soak in a nice , hot bath . ''\",\n",
       "  \"`` do n't tell me you actually have those ?\",\n",
       "  \"`` hmm , vanilla . ''\",\n",
       "  'pesh cocked his head at her .',\n",
       "  'she sucked in a breath when his fingers skimmed her abdomen before he gripped the waistband of her scrubs and tugged them down .',\n",
       "  \"`` mmm , '' megan murmured , letting her head fall back against his chest .\",\n",
       "  \"`` i 'm getting so hot , i can warm it up . ''\",\n",
       "  'he only got to admire her na**d backside for a moment before she lowered herself into the tub and disappeared under the foam .',\n",
       "  \"`` if you were in here with me . ''\",\n",
       "  '`` fine .',\n",
       "  \"`` what are you doing ? ''\",\n",
       "  \"`` do n't you believe in foreplay ? ''\",\n",
       "  'one of his hands abandoned her shoulder to slide down in between her legs .',\n",
       "  'he increased the pressure of his thumb , and megan shrieked , bucking her h*ps faster and faster against his fingers .',\n",
       "  'she rose up and then took his erection in her hand .',\n",
       "  'his teeth grazed the bud before his tongue flicked and teased it into a hardened point .',\n",
       "  'each time he went a little deeper , and it caused megan to be more and more vocal .',\n",
       "  \"`` that was ... amazing . ''\",\n",
       "  \"my ex liked to think he was a ladies man , but half of the time , i had to take matters into my own hands if i was going to finish . ''\",\n",
       "  \"`` i 'm glad to hear that . ''\",\n",
       "  '`` wait here .',\n",
       "  'when he got back to the bedroom , he found her lounging back against the pillows with an expression of pure relaxation .',\n",
       "  \"megan 's eyes widened .\",\n",
       "  'while her brows furrowed in confusion , he passed her a plate and a fork .',\n",
       "  \"`` okay . ''\",\n",
       "  \"`` feed me , '' he insisted .\",\n",
       "  'he nodded and then took the bite for himself .',\n",
       "  'when she lowered her gaze to eye her plate for his next bite , she caught sight of his growing erection .',\n",
       "  'as she swept up a forkful of rice , she brought it to his mouth .',\n",
       "  'each time he fed her a bite , he tried conveying through his gaze what he was imagining doing to her .',\n",
       "  'she drank in long gulps , her eyes never leaving his .',\n",
       "  \"his chest shook so hard that he wanted to clutch his stomach , but megan 's body was in the way .\",\n",
       "  'her eyes widened .',\n",
       "  \"`` see how much better it is when you wait ? ''\",\n",
       "  'she moaned at the feeling , her hands sliding up above her head to grip the sheets .',\n",
       "  \"`` sorry for being a tantric sex failure . ''\",\n",
       "  \"`` you think so ? ''\",\n",
       "  \"`` i think that sounds like a good idea . ''\",\n",
       "  'pesh sighed as he bent down to pick up his robe .',\n",
       "  \"all of my family will be there , including my parents . ''\",\n",
       "  'scooting to the edge of the bed , she gripped her gaping robe as best she could .',\n",
       "  'when she bobbed her head , he rushed forward to wrap her in his arms .',\n",
       "  'what if they hated her ?',\n",
       "  'it was hard to process .',\n",
       "  \"`` you know , i think i can be seen back here in the nurses ' station without arising any suspicion .\",\n",
       "  'he held his hands up defensively .',\n",
       "  'pesh whirled around to find kara staring at them with venom burning in her eyes .',\n",
       "  'megan started to protest , but pesh stopped her .',\n",
       "  \"you do n't need a girl like that-you need a woman to take care of you . ''\",\n",
       "  'she narrowed her eyes at him .',\n",
       "  '`` listen to me when i say that if you threaten to expose megan one more time , i will make life a living hell for you .',\n",
       "  'he never used that tone of voice with women , or men for that matter , unless he was absolutely pushed to do so .',\n",
       "  \"i took care of things . ''\",\n",
       "  \"`` i 've never had a man take up for me like that before . ''\",\n",
       "  \"that 's good to know . ''\",\n",
       "  \"`` i 'll be looking forward to it . ''\",\n",
       "  'at his blatant lie , megan covered her mouth to hide her giggling .',\n",
       "  \"a few nights later pesh found himself speeding along the quiet streets of megan 's neighborhood .\",\n",
       "  \"after he picked her up , they were going to his sister , shveta 's , house for dinner .\",\n",
       "  'she wore black pants , and a dressy red top that had a lot of beading .',\n",
       "  \"`` duh , i 'm really nervous . ''\",\n",
       "  'he pressed .',\n",
       "  \"`` sweetheart , you 're not the first american girl i 've brought home with me . ''\",\n",
       "  'he shook his head .',\n",
       "  \"so i promise you there is nothing you can do to where they wo n't like you or where you 'll bring shame on me .\",\n",
       "  \"`` what ? ''\",\n",
       "  \"`` what does that have to do with us being late ? ''\",\n",
       "  \"i even watched monsoon wedding , '' she said .\",\n",
       "  \"`` i did n't expect them to , smart-ass . ''\",\n",
       "  \"`` regardless of your out-of-control emotions , i know that my family is going to love you just as much as i do . ''\",\n",
       "  'burying her head in her hands , she groaned .',\n",
       "  '`` i love you , pesh .',\n",
       "  'he had spent years with jade and had only months with megan .',\n",
       "  \"`` but i know it is n't half your heart .\",\n",
       "  \"there 's no half about it .\",\n",
       "  'she giggled and then eased back down into her seat .',\n",
       "  'he shook his head as he got out of the car .',\n",
       "  \"i 'm nervous . ''\",\n",
       "  \"they 'll be ready to disown you then . ''\",\n",
       "  \"`` hi , '' megan said .\",\n",
       "  'sanjay gave megan a welcoming smile .',\n",
       "  \"`` s-seriously ? ''\",\n",
       "  \"`` more etiquette you forgot to tell me ? ''\",\n",
       "  '`` hello brother .',\n",
       "  'shveta smiled and brought her hand to her abdomen .',\n",
       "  'deafening silence reverberated around the room after his statement .',\n",
       "  \"his father 's bushy brows rose .\",\n",
       "  \"`` thank you , '' she said .\",\n",
       "  \"`` i 'm lavani .\",\n",
       "  \"as she started into the kitchen , shveta followed her , along with arjan 's wife .\",\n",
       "  \"her expression told him that she really did n't want to leave his side , but she did anyway .\",\n",
       "  'he mustered as much patience as he could to answer them all .',\n",
       "  \"`` emma ? ''\",\n",
       "  'his mother demanded from the doorway .',\n",
       "  \"`` you 're ... ? ''\",\n",
       "  \"`` this emma that sanjay speaks of . ''\",\n",
       "  '`` second of all , could everyone just back off for a second ?',\n",
       "  'lavani suggested .',\n",
       "  \"`` just no silver tequila for you , '' he mused .\",\n",
       "  \"when he glanced at her in surprise , she whispered , `` where is the silverware ? ''\",\n",
       "  \"`` i 'm left handed , '' she protested .\",\n",
       "  '`` i was just telling megan what a wonderful cook you are .',\n",
       "  'as his mother turned her attention to shveta , pesh bowed his head and spoke in a low voice to megan .',\n",
       "  \"`` would he not take it from you ? ''\",\n",
       "  '`` in that scenario , yes .',\n",
       "  \"that fact alone shows you were there for more than just practicing medicine . ''\",\n",
       "  \"`` you 're fine . ''\",\n",
       "  \"we certainly do n't expect you to . ''\",\n",
       "  'charlie dabbed the corners of his mouth with his napkin .',\n",
       "  '`` maybe next time .',\n",
       "  \"i enjoy spending time with him . ''\",\n",
       "  'shveta mused with a smile .',\n",
       "  'megan gave him a skeptical look as dev walked into the dining room .',\n",
       "  \"`` you 've met megan , dev ? ''\",\n",
       "  'after taking a bite of his samosa , dev motioned at them while he chewed .',\n",
       "  \"`` is that right ? ''\",\n",
       "  \"`` my , my , alpesh , have n't you picked a feisty one ? ''\",\n",
       "  \"when his mother gasped in horror , megan fumbled under the table for pesh 's hand .\",\n",
       "  \"in true dev fashion , he rolled his eyes at his mother 's outrage .\",\n",
       "  \"`` i hope you both will be very happy together . ''\",\n",
       "  \"but dev was n't finished .\",\n",
       "  \"`` guess we 're off the hook , huh ? ''\",\n",
       "  \"today found him at patrick 's house , wedged on the couch between some of megan 's male family members .\",\n",
       "  \"`` they have n't called .\",\n",
       "  \"between you and percy , we 're going to be eaten out of house and home . ''\",\n",
       "  \"`` get me , esh , '' he urged , holding his hands up .\",\n",
       "  \"`` esh , '' he replied .\",\n",
       "  \"`` where 's emma ? ''\",\n",
       "  'aidan smiled .',\n",
       "  \"let 's return thanks . ''\",\n",
       "  \"`` i 'm sorry , mister , but that cute little grin is n't going to work for me . ''\",\n",
       "  \"`` sounds like his father , '' angie mused .\",\n",
       "  \"`` let 's hope that this next baby has emma 's temperament . ''\",\n",
       "  \"`` will you keep an eye on them ? ''\",\n",
       "  'he realized if he was going to truly fit in , he was going to have to speak up more .',\n",
       "  'aidan reappeared in the dining room with noah in his arms .',\n",
       "  \"`` okay . ''\",\n",
       "  'never in a million years could he have imagined what he would do next .',\n",
       "  \"`` yes , you 're daddy 's boy . ''\",\n",
       "  'when mason nodded , pesh gently sat him back down on the floor .',\n",
       "  'he found her sitting on the edge of the bed with her head in her hands .',\n",
       "  \"`` you think i 'm angry at you ? ''\",\n",
       "  'before he could process her words , she threw herself at him , kissing his cheeks and mouth .',\n",
       "  'it was one that was laced with desperate emotions .',\n",
       "  'he felt like he had been kicked in the gut .',\n",
       "  \"at that moment , he thanked god he was sitting down because if he had n't been , he was pretty sure he would 've done something totally emasculating like fainting .\",\n",
       "  '`` i wish you could see your face right now .',\n",
       "  \"`` you 're really serious ? ''\",\n",
       "  \"and let 's not forget how adamant you have been the entire time i 've known you about being too young to get married . ''\",\n",
       "  'while that would be enough to make me want to marry you , you love my son .',\n",
       "  'but you never gave up on me .',\n",
       "  \"`` yes , we are . ''\",\n",
       "  '`` fine , fine .',\n",
       "  \"but i want to spoil my beautiful future wife . ''\",\n",
       "  \"considering they were at patrick 's with all of her family down the hall , he knew the last thing on his mind should 've been flipping her over onto her back and pounding into her .\",\n",
       "  \"`` i think we 've consummated enough over the last few months where it does n't matter . ''\",\n",
       "  'he cupped and kneaded the flesh over her top .',\n",
       "  'pesh chuckled .',\n",
       "  \"`` ha , ha , very funny , '' megan grumbled , as she got off the bed .\",\n",
       "  \"pesh smiled as he rose off the bed and took megan 's hand .\",\n",
       "  ...]}"
      ]
     },
     "execution_count": 2,
     "metadata": {},
     "output_type": "execute_result"
    }
   ],
   "source": [
    "samples"
   ]
  },
  {
   "cell_type": "code",
   "execution_count": 3,
   "id": "63d40402-f231-4f02-9737-8f836545548b",
   "metadata": {},
   "outputs": [
    {
     "data": {
      "text/plain": [
       "10572033"
      ]
     },
     "execution_count": 3,
     "metadata": {},
     "output_type": "execute_result"
    }
   ],
   "source": [
    "len(samples['text'])"
   ]
  },
  {
   "cell_type": "code",
   "execution_count": 4,
   "id": "1c0d2ae2-e408-4bd7-9f47-057b365b23c1",
   "metadata": {},
   "outputs": [],
   "source": [
    "from tokenizers import Tokenizer\n",
    "from tokenizers.models import BPE\n",
    "from tokenizers.pre_tokenizers import Whitespace\n",
    "from tokenizers.normalizers import Lowercase"
   ]
  },
  {
   "cell_type": "code",
   "execution_count": 5,
   "id": "323234be-253b-4ff7-8d25-43b51935f0e0",
   "metadata": {},
   "outputs": [],
   "source": [
    "model = BPE(unk_token='[UNK]')\n",
    "tokenizer = Tokenizer(model)\n",
    "tokenizer.normalizer = Lowercase()\n",
    "tokenizer.pre_tokenizer = Whitespace()"
   ]
  },
  {
   "cell_type": "code",
   "execution_count": 7,
   "id": "5c21be90-8079-40aa-9bc0-41a84635a280",
   "metadata": {},
   "outputs": [
    {
     "name": "stdout",
     "output_type": "stream",
     "text": [
      "\n",
      "\n",
      "\n",
      "13.508091688156128\n"
     ]
    }
   ],
   "source": [
    "# Keep the vocabulary size at 5000 and tokenize the input text using the learned vocabulary. Choose the number of tokens returned by the tokenizer.\n",
    "import time\n",
    "\n",
    "from tokenizers.trainers import BpeTrainer\n",
    "text = \"SEBI study finds 93% of individual F&O traders made losses between FY22 and FY24.\"\n",
    "\n",
    "trainer = BpeTrainer(vocab_size=5000, special_tokens=[\"[GO]\", \"[UNK]\", \"[PAD]\", \"[EOS]\"], continuing_subword_prefix=\"##\")\n",
    "\n",
    "\n",
    "def get_batch(bs=10_000):\n",
    "    for i in range(0, len(samples['text']), bs):\n",
    "        yield samples['text'][i: i + bs]\n",
    "\n",
    "start = time.time()\n",
    "tokenizer.train_from_iterator(get_batch(), trainer=trainer, length=len(samples['text']))\n",
    "stop = time.time()\n",
    "print(stop - start)"
   ]
  },
  {
   "cell_type": "code",
   "execution_count": 8,
   "id": "040a954e-e049-4817-af28-b960f4756929",
   "metadata": {},
   "outputs": [
    {
     "data": {
      "text/plain": [
       "32"
      ]
     },
     "execution_count": 8,
     "metadata": {},
     "output_type": "execute_result"
    }
   ],
   "source": [
    "enc = tokenizer.encode(text)\n",
    "len(enc.tokens)"
   ]
  },
  {
   "cell_type": "code",
   "execution_count": 10,
   "id": "c9974310-3c3d-4d01-b1ed-30ac9947f7bd",
   "metadata": {},
   "outputs": [],
   "source": [
    "# Increase the vocabulary size to 10K, 15K and 32K. For each case, tokenize the same input with the newly learned vocabulary. Choose all the correct statements\n",
    "t10k = BpeTrainer(vocab_size=10_000, special_tokens=[\"[GO]\", \"[UNK]\", \"[PAD]\", \"[EOS]\"], continuing_subword_prefix=\"##\")\n",
    "t15k = BpeTrainer(vocab_size=15_000, special_tokens=[\"[GO]\", \"[UNK]\", \"[PAD]\", \"[EOS]\"], continuing_subword_prefix=\"##\")\n",
    "t32k = BpeTrainer(vocab_size=32_000, special_tokens=[\"[GO]\", \"[UNK]\", \"[PAD]\", \"[EOS]\"], continuing_subword_prefix=\"##\")"
   ]
  },
  {
   "cell_type": "code",
   "execution_count": 11,
   "id": "e0252350-e2a5-4b4d-a4aa-2efbe6ff47f5",
   "metadata": {},
   "outputs": [
    {
     "name": "stdout",
     "output_type": "stream",
     "text": [
      "\n",
      "\n",
      "\n"
     ]
    }
   ],
   "source": [
    "tokenizer.train_from_iterator(get_batch(), trainer=t10k, length=len(samples['text']))\n",
    "enc = tokenizer.encode(text)"
   ]
  },
  {
   "cell_type": "code",
   "execution_count": 12,
   "id": "99b104da-37a7-4d81-98e1-3bdf8ff74015",
   "metadata": {},
   "outputs": [
    {
     "data": {
      "text/plain": [
       "32"
      ]
     },
     "execution_count": 12,
     "metadata": {},
     "output_type": "execute_result"
    }
   ],
   "source": [
    "len(enc.tokens)"
   ]
  },
  {
   "cell_type": "code",
   "execution_count": 13,
   "id": "354dc987-a2dc-406a-bc8f-1ede93caf4ff",
   "metadata": {},
   "outputs": [
    {
     "name": "stdout",
     "output_type": "stream",
     "text": [
      "\n",
      "\n",
      "\n"
     ]
    },
    {
     "data": {
      "text/plain": [
       "32"
      ]
     },
     "execution_count": 13,
     "metadata": {},
     "output_type": "execute_result"
    }
   ],
   "source": [
    "tokenizer.train_from_iterator(get_batch(), trainer=t15k, length=len(samples['text']))\n",
    "enc = tokenizer.encode(text)\n",
    "len(enc.tokens)"
   ]
  },
  {
   "cell_type": "code",
   "execution_count": 14,
   "id": "9398f126-1294-4d8d-97d8-ea7cb6c27d07",
   "metadata": {},
   "outputs": [
    {
     "name": "stdout",
     "output_type": "stream",
     "text": [
      "\n",
      "\n",
      "\n"
     ]
    },
    {
     "data": {
      "text/plain": [
       "32"
      ]
     },
     "execution_count": 14,
     "metadata": {},
     "output_type": "execute_result"
    }
   ],
   "source": [
    "tokenizer.train_from_iterator(get_batch(), trainer=t32k, length=len(samples['text']))\n",
    "enc = tokenizer.encode(text)\n",
    "len(enc.tokens)"
   ]
  },
  {
   "cell_type": "code",
   "execution_count": 15,
   "id": "f8c3cd21-9d09-4fed-962e-91d761b82b3e",
   "metadata": {},
   "outputs": [
    {
     "name": "stdout",
     "output_type": "stream",
     "text": [
      "\n",
      "\n",
      "\n",
      "\n",
      "\n",
      "\n",
      "\n",
      "\n",
      "\n"
     ]
    },
    {
     "data": {
      "text/plain": [
       "(28, 28, 25)"
      ]
     },
     "execution_count": 15,
     "metadata": {},
     "output_type": "execute_result"
    }
   ],
   "source": [
    "# See what happens when everything is created from scratch\n",
    "\n",
    "def train(vocab_size):\n",
    "    model = BPE(unk_token='[UNK]')\n",
    "    tokenizer = Tokenizer(model)\n",
    "    tokenizer.normalizer = Lowercase()\n",
    "    tokenizer.pre_tokenizer = Whitespace()\n",
    "    trainer = BpeTrainer(vocab_size=vocab_size, special_tokens=[\"[GO]\", \"[UNK]\", \"[PAD]\", \"[EOS]\"], continuing_subword_prefix=\"##\")\n",
    "    tokenizer.train_from_iterator(get_batch(), trainer=trainer, length=len(samples['text']))\n",
    "    enc = tokenizer.encode(text)\n",
    "    return len(enc.tokens)\n",
    "\n",
    "train(10_000), train(15_000), train(32_000)"
   ]
  },
  {
   "cell_type": "code",
   "execution_count": 19,
   "id": "9b37413d-290d-4003-9c2c-4fb5ddc676e5",
   "metadata": {},
   "outputs": [
    {
     "data": {
      "text/plain": [
       "25"
      ]
     },
     "execution_count": 19,
     "metadata": {},
     "output_type": "execute_result"
    }
   ],
   "source": [
    "# Download the pre-trained tokenizer file “hopper.json” used in the lecture, from here .\n",
    "# The tokenizer was trained on all 70 million samples in the BookCorpus dataset. Tokenize the same input text using this “hopper” tokenizer. How many tokens are there?\n",
    "# [After finding the answer, take a moment to compare the hopper tokenizer with the previous one]\n",
    "\n",
    "pt_tokenizer = Tokenizer(BPE())\n",
    "pt_tokenizer = pt_tokenizer.from_file('hopper.json')\n",
    "enc = pt_tokenizer.encode(text)\n",
    "len(enc.tokens)"
   ]
  },
  {
   "cell_type": "code",
   "execution_count": 21,
   "id": "18674441-5091-4534-abfc-86e9ccbebcdc",
   "metadata": {},
   "outputs": [],
   "source": [
    "# Suppose we know that the acronym “FY” will likely appear very frequently in most of the input text (assume the text comes from the financial domain).\n",
    "# Therefore, we hope that adding it manually to the vocabulary might help. Add the token “FY” to the vocabulary and tokenize the input text. Enter the number of tokens produced.\n",
    "v = pt_tokenizer.get_vocab()"
   ]
  },
  {
   "cell_type": "code",
   "execution_count": 25,
   "id": "26d6b7d3-5d05-480d-b496-4456b47cc5f2",
   "metadata": {},
   "outputs": [
    {
     "data": {
      "text/plain": [
       "1"
      ]
     },
     "execution_count": 25,
     "metadata": {},
     "output_type": "execute_result"
    }
   ],
   "source": [
    "pt_tokenizer.add_tokens(['FY'])"
   ]
  },
  {
   "cell_type": "code",
   "execution_count": 26,
   "id": "1545afcb-6487-48d0-be91-6aee3c38e102",
   "metadata": {},
   "outputs": [
    {
     "data": {
      "text/plain": [
       "22"
      ]
     },
     "execution_count": 26,
     "metadata": {},
     "output_type": "execute_result"
    }
   ],
   "source": [
    "enc = pt_tokenizer.encode(text)\n",
    "len(enc.tokens)"
   ]
  },
  {
   "cell_type": "code",
   "execution_count": 27,
   "id": "08471d38-5b88-4bb5-b69e-e1b37bd96ee3",
   "metadata": {},
   "outputs": [],
   "source": [
    "# Load the “bert-base-uncased” and \"gpt2” tokenizers (use AutoTokenizer function from transformers). Which of the following special tokens are used in these tokenizers?\n",
    "from transformers import AutoTokenizer"
   ]
  },
  {
   "cell_type": "code",
   "execution_count": 28,
   "id": "6e54854c-36d2-475c-a125-8bcf722f330f",
   "metadata": {},
   "outputs": [
    {
     "data": {
      "application/vnd.jupyter.widget-view+json": {
       "model_id": "58a6ef5470c2468db06d9227d5ceb7f6",
       "version_major": 2,
       "version_minor": 0
      },
      "text/plain": [
       "tokenizer_config.json:   0%|          | 0.00/48.0 [00:00<?, ?B/s]"
      ]
     },
     "metadata": {},
     "output_type": "display_data"
    },
    {
     "data": {
      "application/vnd.jupyter.widget-view+json": {
       "model_id": "882d3d1dc2094e8f92985a6859a4c269",
       "version_major": 2,
       "version_minor": 0
      },
      "text/plain": [
       "config.json:   0%|          | 0.00/570 [00:00<?, ?B/s]"
      ]
     },
     "metadata": {},
     "output_type": "display_data"
    },
    {
     "data": {
      "application/vnd.jupyter.widget-view+json": {
       "model_id": "9ad5f5906b1049f8961d1ac374c3e6e6",
       "version_major": 2,
       "version_minor": 0
      },
      "text/plain": [
       "vocab.txt:   0%|          | 0.00/232k [00:00<?, ?B/s]"
      ]
     },
     "metadata": {},
     "output_type": "display_data"
    },
    {
     "data": {
      "application/vnd.jupyter.widget-view+json": {
       "model_id": "d11266f0664f42ff947a5b887ea581d4",
       "version_major": 2,
       "version_minor": 0
      },
      "text/plain": [
       "tokenizer.json:   0%|          | 0.00/466k [00:00<?, ?B/s]"
      ]
     },
     "metadata": {},
     "output_type": "display_data"
    },
    {
     "name": "stderr",
     "output_type": "stream",
     "text": [
      "/home/jaidevd/conda/envs/dlp/lib/python3.12/site-packages/transformers/tokenization_utils_base.py:1601: FutureWarning: `clean_up_tokenization_spaces` was not set. It will be set to `True` by default. This behavior will be depracted in transformers v4.45, and will be then set to `False` by default. For more details check this issue: https://github.com/huggingface/transformers/issues/31884\n",
      "  warnings.warn(\n"
     ]
    },
    {
     "data": {
      "application/vnd.jupyter.widget-view+json": {
       "model_id": "d27f2c231d514f0d9a43dbb56d612889",
       "version_major": 2,
       "version_minor": 0
      },
      "text/plain": [
       "tokenizer_config.json:   0%|          | 0.00/26.0 [00:00<?, ?B/s]"
      ]
     },
     "metadata": {},
     "output_type": "display_data"
    },
    {
     "data": {
      "application/vnd.jupyter.widget-view+json": {
       "model_id": "c68264b2777141a9a60d8ce976abca86",
       "version_major": 2,
       "version_minor": 0
      },
      "text/plain": [
       "config.json:   0%|          | 0.00/665 [00:00<?, ?B/s]"
      ]
     },
     "metadata": {},
     "output_type": "display_data"
    },
    {
     "data": {
      "application/vnd.jupyter.widget-view+json": {
       "model_id": "b3045166b4c44b9189700cada92478ea",
       "version_major": 2,
       "version_minor": 0
      },
      "text/plain": [
       "vocab.json:   0%|          | 0.00/1.04M [00:00<?, ?B/s]"
      ]
     },
     "metadata": {},
     "output_type": "display_data"
    },
    {
     "data": {
      "application/vnd.jupyter.widget-view+json": {
       "model_id": "c5225c92d02a466fbc8e26834af556b6",
       "version_major": 2,
       "version_minor": 0
      },
      "text/plain": [
       "merges.txt:   0%|          | 0.00/456k [00:00<?, ?B/s]"
      ]
     },
     "metadata": {},
     "output_type": "display_data"
    },
    {
     "data": {
      "application/vnd.jupyter.widget-view+json": {
       "model_id": "ef97fd7cfd374a749aa754fdbd7ec4ef",
       "version_major": 2,
       "version_minor": 0
      },
      "text/plain": [
       "tokenizer.json:   0%|          | 0.00/1.36M [00:00<?, ?B/s]"
      ]
     },
     "metadata": {},
     "output_type": "display_data"
    }
   ],
   "source": [
    "bbu = AutoTokenizer.from_pretrained('bert-base-uncased')\n",
    "gpt2 = AutoTokenizer.from_pretrained('gpt2')"
   ]
  },
  {
   "cell_type": "code",
   "execution_count": 29,
   "id": "6e9e6775-4cce-4a37-84b6-f2a7370c41ff",
   "metadata": {},
   "outputs": [
    {
     "data": {
      "text/plain": [
       "{'unk_token': '[UNK]',\n",
       " 'sep_token': '[SEP]',\n",
       " 'pad_token': '[PAD]',\n",
       " 'cls_token': '[CLS]',\n",
       " 'mask_token': '[MASK]'}"
      ]
     },
     "execution_count": 29,
     "metadata": {},
     "output_type": "execute_result"
    }
   ],
   "source": [
    "bbu.special_tokens_map"
   ]
  },
  {
   "cell_type": "code",
   "execution_count": 30,
   "id": "0440af51-a2cd-49ae-81dc-4003c86d099d",
   "metadata": {},
   "outputs": [
    {
     "data": {
      "text/plain": [
       "{'bos_token': '<|endoftext|>',\n",
       " 'eos_token': '<|endoftext|>',\n",
       " 'unk_token': '<|endoftext|>'}"
      ]
     },
     "execution_count": 30,
     "metadata": {},
     "output_type": "execute_result"
    }
   ],
   "source": [
    "gpt2.special_tokens_map"
   ]
  },
  {
   "cell_type": "code",
   "execution_count": 70,
   "id": "07d4868f-51d0-46c0-a3bf-66bce3ea02ed",
   "metadata": {},
   "outputs": [
    {
     "name": "stdout",
     "output_type": "stream",
     "text": [
      "\n",
      "\n",
      "\n"
     ]
    }
   ],
   "source": [
    "# By now, we have four tokenizers.\n",
    "\n",
    "# 1. Custom tokenizer (vocab size 32K, trained on 10 million samples)\n",
    "# 2. bert-base-uncased\n",
    "# 3. gpt2\n",
    "# 4. hopper\n",
    "\n",
    "# Use these four tokenizers to count the number of tokens for the entire “imdb” dataset (drop the “unsupervised” part of the dataset).\n",
    "# Enter the tokenizers in order such that the size of the dataset (measured in tokens) as returned by the tokenizers is in decreasing order.\n",
    "# For example, if the first tokenizer yields the smallest number of tokens and the fourth tokenizer yields the largest, you would enter 1234 (without any spaces).”\n",
    "def train(vocab_size):\n",
    "    model = BPE(unk_token='[UNK]')\n",
    "    tokenizer = Tokenizer(model)\n",
    "    tokenizer.normalizer = Lowercase()\n",
    "    tokenizer.pre_tokenizer = Whitespace()\n",
    "    trainer = BpeTrainer(vocab_size=vocab_size, special_tokens=[\"[GO]\", \"[UNK]\", \"[PAD]\", \"[EOS]\"], continuing_subword_prefix=\"##\")\n",
    "    tokenizer.train_from_iterator(get_batch(), trainer=trainer, length=len(samples['text']))\n",
    "    return tokenizer\n",
    "\n",
    "tokenizer = train(32_000)\n",
    "toks = [tokenizer, bbu, gpt2, pt_tokenizer]"
   ]
  },
  {
   "cell_type": "code",
   "execution_count": 54,
   "id": "81607fa5-e675-4031-8e25-38bbf0bae17e",
   "metadata": {},
   "outputs": [],
   "source": [
    "from tqdm import tqdm"
   ]
  },
  {
   "cell_type": "code",
   "execution_count": 71,
   "id": "5fdf7322-4b64-4c1d-b820-246cf2bf6471",
   "metadata": {},
   "outputs": [
    {
     "name": "stderr",
     "output_type": "stream",
     "text": [
      "4it [01:26, 21.54s/it]\n"
     ]
    }
   ],
   "source": [
    "train_ds, test_ds = load_dataset('imdb', split=['train', 'test'])\n",
    "n_tokens = []\n",
    "for i, tok in tqdm(enumerate(toks, start=1)):\n",
    "    c_tokens = 0\n",
    "    for sample in train_ds['text']:\n",
    "        c_tokens += len(tok.encode(sample))\n",
    "    for sample in test_ds['text']:\n",
    "        c_tokens += len(tok.encode(sample))\n",
    "    n_tokens.append((i, c_tokens))"
   ]
  },
  {
   "cell_type": "code",
   "execution_count": 72,
   "id": "d950b5cc-0993-4973-ac49-c47a046f496d",
   "metadata": {},
   "outputs": [
    {
     "data": {
      "text/plain": [
       "[(4, 13530397), (3, 14812432), (1, 15352840), (2, 15516058)]"
      ]
     },
     "execution_count": 72,
     "metadata": {},
     "output_type": "execute_result"
    }
   ],
   "source": [
    "sorted(n_tokens, key=lambda x: x[1])"
   ]
  },
  {
   "cell_type": "code",
   "execution_count": 83,
   "id": "e3b19641-a47e-45a9-b9d5-2772ef53cf35",
   "metadata": {},
   "outputs": [
    {
     "data": {
      "text/plain": [
       "[('[GO]', 0),\n",
       " ('[UNK]', 1),\n",
       " ('[PAD]', 2),\n",
       " ('[EOS]', 3),\n",
       " ('\\x14', 4),\n",
       " ('\\x18', 5),\n",
       " ('\\x19', 6),\n",
       " ('\\x1c', 7),\n",
       " ('\\x1d', 8),\n",
       " ('\\x1f', 9)]"
      ]
     },
     "execution_count": 83,
     "metadata": {},
     "output_type": "execute_result"
    }
   ],
   "source": [
    "# The statement that the special tokens and their respective token ids are model-specific (model here refers to a language model) is\n",
    "sorted(tokenizer.get_vocab().items(), key=lambda x: x[1])[:10]"
   ]
  },
  {
   "cell_type": "code",
   "execution_count": 80,
   "id": "d1cb2022-fa26-4118-9542-cc588a4b7447",
   "metadata": {},
   "outputs": [
    {
     "data": {
      "text/plain": [
       "[('[PAD]', 0),\n",
       " ('[unused0]', 1),\n",
       " ('[unused1]', 2),\n",
       " ('[unused2]', 3),\n",
       " ('[unused3]', 4),\n",
       " ('[unused4]', 5),\n",
       " ('[unused5]', 6),\n",
       " ('[unused6]', 7),\n",
       " ('[unused7]', 8),\n",
       " ('[unused8]', 9)]"
      ]
     },
     "execution_count": 80,
     "metadata": {},
     "output_type": "execute_result"
    }
   ],
   "source": [
    "sorted(bbu.get_vocab().items(), key=lambda x: x[1])[:10]"
   ]
  },
  {
   "cell_type": "code",
   "execution_count": 90,
   "id": "3f648ef0-475c-4631-9150-f9b81cf2ce8c",
   "metadata": {},
   "outputs": [
    {
     "data": {
      "text/plain": [
       "[('Revolution', 50237),\n",
       " ('Ġsnipers', 50238),\n",
       " ('Ġreverted', 50239),\n",
       " ('Ġconglomerate', 50240),\n",
       " ('Terry', 50241),\n",
       " ('794', 50242),\n",
       " ('Ġharsher', 50243),\n",
       " ('Ġdesolate', 50244),\n",
       " ('ĠHitman', 50245),\n",
       " ('Commission', 50246),\n",
       " ('Ġ(/', 50247),\n",
       " ('âĢ¦.\"', 50248),\n",
       " ('Compar', 50249),\n",
       " ('Ġamplification', 50250),\n",
       " ('ominated', 50251),\n",
       " ('Ġregress', 50252),\n",
       " ('ĠCollider', 50253),\n",
       " ('Ġinformants', 50254),\n",
       " ('Ġgazed', 50255),\n",
       " ('<|endoftext|>', 50256)]"
      ]
     },
     "execution_count": 90,
     "metadata": {},
     "output_type": "execute_result"
    }
   ],
   "source": [
    "sorted(gpt2.get_vocab().items(), key=lambda x: x[1])[-20:]"
   ]
  },
  {
   "cell_type": "code",
   "execution_count": 82,
   "id": "8b2400c1-879d-4265-a7c2-a67464184d15",
   "metadata": {},
   "outputs": [
    {
     "data": {
      "text/plain": [
       "[('[PAD]', 0),\n",
       " ('[UNK]', 1),\n",
       " ('\\x13', 2),\n",
       " ('\\x14', 3),\n",
       " ('\\x18', 4),\n",
       " ('\\x19', 5),\n",
       " ('\\x1c', 6),\n",
       " ('\\x1d', 7),\n",
       " ('\\x1f', 8),\n",
       " ('!', 9)]"
      ]
     },
     "execution_count": 82,
     "metadata": {},
     "output_type": "execute_result"
    }
   ],
   "source": [
    "sorted(pt_tokenizer.get_vocab().items(), key=lambda x: x[1])[:10]"
   ]
  },
  {
   "cell_type": "code",
   "execution_count": 86,
   "id": "a669dbf6-795f-4779-aeac-5ee1c07371c0",
   "metadata": {},
   "outputs": [
    {
     "data": {
      "application/vnd.jupyter.widget-view+json": {
       "model_id": "5e190e6d7b824b0e9aec0a4ab7a6aa4f",
       "version_major": 2,
       "version_minor": 0
      },
      "text/plain": [
       "tokenizer_config.json:   0%|          | 0.00/2.32k [00:00<?, ?B/s]"
      ]
     },
     "metadata": {},
     "output_type": "display_data"
    },
    {
     "data": {
      "application/vnd.jupyter.widget-view+json": {
       "model_id": "7c495f86826447798d0da2ece1ffb00d",
       "version_major": 2,
       "version_minor": 0
      },
      "text/plain": [
       "spiece.model:   0%|          | 0.00/792k [00:00<?, ?B/s]"
      ]
     },
     "metadata": {},
     "output_type": "display_data"
    },
    {
     "data": {
      "application/vnd.jupyter.widget-view+json": {
       "model_id": "a483e05be53145bfbc1c4aada1a4d47c",
       "version_major": 2,
       "version_minor": 0
      },
      "text/plain": [
       "tokenizer.json:   0%|          | 0.00/1.39M [00:00<?, ?B/s]"
      ]
     },
     "metadata": {},
     "output_type": "display_data"
    }
   ],
   "source": [
    "#  Suppose that the context length of the model is 128. Assume that a mini-batch of size 8 samples is passed to a tokenizer that corresponds to a model from hub.\n",
    "# After tokenization, the maximum length of sample in the batch is 64. The statement that zero is appended to the “input ids” of the remaining samples to make the length 64 is\n",
    "\n",
    "from transformers import T5TokenizerFast\n",
    "t5 = T5TokenizerFast.from_pretrained(\"google-t5/t5-small\")"
   ]
  },
  {
   "cell_type": "code",
   "execution_count": 88,
   "id": "3577b169-7b3c-4294-95a5-d8966f40b661",
   "metadata": {},
   "outputs": [
    {
     "data": {
      "text/plain": [
       "[('[PAD]', 0),\n",
       " ('[UNK]', 1),\n",
       " ('\\x13', 2),\n",
       " ('\\x14', 3),\n",
       " ('\\x18', 4),\n",
       " ('\\x19', 5),\n",
       " ('\\x1c', 6),\n",
       " ('\\x1d', 7),\n",
       " ('\\x1f', 8),\n",
       " ('!', 9)]"
      ]
     },
     "execution_count": 88,
     "metadata": {},
     "output_type": "execute_result"
    }
   ],
   "source": [
    "sorted(pt_tokenizer.get_vocab().items(), key=lambda x: x[1])[:10]"
   ]
  },
  {
   "cell_type": "code",
   "execution_count": 91,
   "id": "6d0ff589-1f06-4653-8d48-b81cb48ca4e0",
   "metadata": {},
   "outputs": [
    {
     "data": {
      "application/vnd.jupyter.widget-view+json": {
       "model_id": "c5a5193d3ddd42a29ab7d275d4da111f",
       "version_major": 2,
       "version_minor": 0
      },
      "text/plain": [
       "config.json:   0%|          | 0.00/760 [00:00<?, ?B/s]"
      ]
     },
     "metadata": {},
     "output_type": "display_data"
    },
    {
     "data": {
      "application/vnd.jupyter.widget-view+json": {
       "model_id": "456cf8178dcb43eeb0dbb0df8240d357",
       "version_major": 2,
       "version_minor": 0
      },
      "text/plain": [
       "spiece.model:   0%|          | 0.00/798k [00:00<?, ?B/s]"
      ]
     },
     "metadata": {},
     "output_type": "display_data"
    },
    {
     "data": {
      "application/vnd.jupyter.widget-view+json": {
       "model_id": "a509e2ad86f341ad9a3f584daf362ee2",
       "version_major": 2,
       "version_minor": 0
      },
      "text/plain": [
       "tokenizer.json:   0%|          | 0.00/1.38M [00:00<?, ?B/s]"
      ]
     },
     "metadata": {},
     "output_type": "display_data"
    },
    {
     "name": "stderr",
     "output_type": "stream",
     "text": [
      "/home/jaidevd/conda/envs/dlp/lib/python3.12/site-packages/transformers/tokenization_utils_base.py:1601: FutureWarning: `clean_up_tokenization_spaces` was not set. It will be set to `True` by default. This behavior will be depracted in transformers v4.45, and will be then set to `False` by default. For more details check this issue: https://github.com/huggingface/transformers/issues/31884\n",
      "  warnings.warn(\n"
     ]
    },
    {
     "data": {
      "text/plain": [
       "[('<unk>', 0),\n",
       " ('<s>', 1),\n",
       " ('</s>', 2),\n",
       " ('<cls>', 3),\n",
       " ('<sep>', 4),\n",
       " ('<pad>', 5),\n",
       " ('<mask>', 6),\n",
       " ('<eod>', 7),\n",
       " ('<eop>', 8),\n",
       " ('.', 9)]"
      ]
     },
     "execution_count": 91,
     "metadata": {},
     "output_type": "execute_result"
    }
   ],
   "source": [
    "xlnet = AutoTokenizer.from_pretrained(\"xlnet/xlnet-base-cased\")\n",
    "sorted(xlnet.get_vocab().items(), key=lambda x: x[1])[:10]"
   ]
  },
  {
   "cell_type": "code",
   "execution_count": null,
   "id": "a12dfed3-afa6-4233-9568-beafac2d867b",
   "metadata": {},
   "outputs": [],
   "source": [
    "# Multiple models have different IDs for the pad token, not necessarily zero."
   ]
  }
 ],
 "metadata": {
  "kernelspec": {
   "display_name": "Python 3 (ipykernel)",
   "language": "python",
   "name": "python3"
  },
  "language_info": {
   "codemirror_mode": {
    "name": "ipython",
    "version": 3
   },
   "file_extension": ".py",
   "mimetype": "text/x-python",
   "name": "python",
   "nbconvert_exporter": "python",
   "pygments_lexer": "ipython3",
   "version": "3.12.5"
  }
 },
 "nbformat": 4,
 "nbformat_minor": 5
}

{
 "cells": [
  {
   "cell_type": "code",
   "execution_count": 1,
   "id": "ced5b5a9-49bc-4b25-b233-eb3c47b9faa2",
   "metadata": {
    "tags": []
   },
   "outputs": [],
   "source": [
    "from torchvision.datasets import ImageFolder"
   ]
  },
  {
   "cell_type": "code",
   "execution_count": 2,
   "id": "a77daba4-6ea9-4c0d-8b85-bd39b478ad1a",
   "metadata": {
    "tags": []
   },
   "outputs": [],
   "source": [
    "ds = ImageFolder('data/train')"
   ]
  },
  {
   "cell_type": "code",
   "execution_count": 4,
   "id": "2ad30f10-0017-4bd4-8696-d41397f5a6f7",
   "metadata": {
    "tags": []
   },
   "outputs": [],
   "source": [
    "from torchvision.io import decode_image"
   ]
  },
  {
   "cell_type": "code",
   "execution_count": 5,
   "id": "5f19d4a9-6f00-4dec-beed-c1866f47059d",
   "metadata": {
    "tags": []
   },
   "outputs": [
    {
     "data": {
      "text/plain": [
       "tensor([[[255, 255, 255,  ...,  69,  66,  67],\n",
       "         [255, 255, 255,  ...,  71,  69,  72],\n",
       "         [255, 255, 255,  ...,  70,  71,  73],\n",
       "         ...,\n",
       "         [ 54,  55,  58,  ..., 122, 136, 146],\n",
       "         [ 53,  56,  61,  ..., 113, 121, 126],\n",
       "         [ 54,  58,  62,  ..., 109, 111, 111]],\n",
       "\n",
       "        [[234, 234, 234,  ...,  52,  51,  52],\n",
       "         [234, 234, 234,  ...,  54,  54,  57],\n",
       "         [234, 234, 234,  ...,  53,  57,  60],\n",
       "         ...,\n",
       "         [ 44,  46,  49,  ...,  95, 107, 117],\n",
       "         [ 44,  47,  52,  ...,  86,  92,  97],\n",
       "         [ 45,  49,  55,  ...,  82,  82,  82]],\n",
       "\n",
       "        [[166, 166, 166,  ...,  44,  46,  47],\n",
       "         [166, 166, 166,  ...,  46,  47,  50],\n",
       "         [164, 164, 164,  ...,  45,  48,  51],\n",
       "         ...,\n",
       "         [ 35,  37,  42,  ...,  66,  77,  85],\n",
       "         [ 37,  40,  45,  ...,  57,  62,  65],\n",
       "         [ 38,  42,  47,  ...,  53,  52,  50]]], dtype=torch.uint8)"
      ]
     },
     "execution_count": 5,
     "metadata": {},
     "output_type": "execute_result"
    }
   ],
   "source": [
    "decode_image('data/train/Amphibia/Amphibia_image_0001.jpg')"
   ]
  },
  {
   "cell_type": "code",
   "execution_count": 6,
   "id": "2a97710e-1232-42f2-b157-95c143acf9a4",
   "metadata": {
    "tags": []
   },
   "outputs": [],
   "source": [
    "from torchvision.transforms.v2 import functional as trx"
   ]
  },
  {
   "cell_type": "code",
   "execution_count": null,
   "id": "d5f8014e-90d6-4373-aebe-861cb848cf36",
   "metadata": {},
   "outputs": [],
   "source": [
    "trx.resize()"
   ]
  },
  {
   "cell_type": "code",
   "execution_count": null,
   "id": "2bc23863-fc04-4b1b-a19d-93ea127642ec",
   "metadata": {},
   "outputs": [],
   "source": []
  },
  {
   "cell_type": "code",
   "execution_count": 31,
   "id": "faba75ad-ced9-4c82-82c4-3c614b66284a",
   "metadata": {
    "tags": []
   },
   "outputs": [],
   "source": [
    "def read(path, label):\n",
    "    im = decode_image(path, mode=ImageReadMode.RGB)\n",
    "    im = trx.resize(im, [256])\n",
    "    return trx.center_crop(im, [224]), label"
   ]
  },
  {
   "cell_type": "code",
   "execution_count": 11,
   "id": "46ed1451-a4e9-49a6-b495-a90730c3ca36",
   "metadata": {
    "tags": []
   },
   "outputs": [],
   "source": [
    "from joblib import Parallel, delayed"
   ]
  },
  {
   "cell_type": "code",
   "execution_count": 32,
   "id": "9f033fe6-01f2-4922-bddb-8f9c40cb808a",
   "metadata": {
    "tags": []
   },
   "outputs": [
    {
     "name": "stderr",
     "output_type": "stream",
     "text": [
      "[Parallel(n_jobs=-1)]: Using backend LokyBackend with 16 concurrent workers.\n",
      "[Parallel(n_jobs=-1)]: Done  96 tasks      | elapsed:    4.0s\n",
      "[Parallel(n_jobs=-1)]: Done 1088 tasks      | elapsed:    4.7s\n",
      "[Parallel(n_jobs=-1)]: Done 8256 tasks      | elapsed:    8.6s\n",
      "[Parallel(n_jobs=-1)]: Done 9999 out of 9999 | elapsed:    9.7s finished\n"
     ]
    }
   ],
   "source": [
    "res = Parallel(n_jobs=-1, verbose=3)(delayed(read)(x, y) for x, y in ds.samples)"
   ]
  },
  {
   "cell_type": "code",
   "execution_count": 33,
   "id": "478e7468-7603-45bc-96d0-f8eb4587b1d5",
   "metadata": {
    "tags": []
   },
   "outputs": [],
   "source": [
    "tensors, labels = zip(*res)"
   ]
  },
  {
   "cell_type": "code",
   "execution_count": 18,
   "id": "a06d7a5b-0ae4-4c0a-bd48-488087938c14",
   "metadata": {
    "tags": []
   },
   "outputs": [],
   "source": [
    "from torch.utils.data import DataLoader, Dataset"
   ]
  },
  {
   "cell_type": "code",
   "execution_count": 22,
   "id": "71970899-d3a8-476b-8659-76b5b12ca0b8",
   "metadata": {
    "tags": []
   },
   "outputs": [],
   "source": [
    "from torch.utils.data import TensorDataset"
   ]
  },
  {
   "cell_type": "code",
   "execution_count": 26,
   "id": "e4888559-ec51-4f7a-8b34-185b63e5d119",
   "metadata": {
    "tags": []
   },
   "outputs": [],
   "source": [
    "import torch"
   ]
  },
  {
   "cell_type": "code",
   "execution_count": 30,
   "id": "414c666a-36f2-417b-ac14-490e326606e4",
   "metadata": {
    "tags": []
   },
   "outputs": [],
   "source": [
    "from torchvision.io import ImageReadMode"
   ]
  },
  {
   "cell_type": "code",
   "execution_count": 34,
   "id": "9c44f632-fd73-416e-828b-32bfe395da2c",
   "metadata": {
    "tags": []
   },
   "outputs": [],
   "source": [
    "X, y = torch.stack(tensors), torch.tensor(labels)"
   ]
  },
  {
   "cell_type": "code",
   "execution_count": 35,
   "id": "50208ca8-0de9-467e-b999-21a4bfe1549f",
   "metadata": {
    "tags": []
   },
   "outputs": [],
   "source": [
    "del tensors"
   ]
  },
  {
   "cell_type": "code",
   "execution_count": null,
   "id": "f11c1d03-fa87-4e7d-bc22-593664bbd675",
   "metadata": {},
   "outputs": [],
   "source": []
  }
 ],
 "metadata": {
  "kernelspec": {
   "display_name": "Python 3 (ipykernel)",
   "language": "python",
   "name": "python3"
  },
  "language_info": {
   "codemirror_mode": {
    "name": "ipython",
    "version": 3
   },
   "file_extension": ".py",
   "mimetype": "text/x-python",
   "name": "python",
   "nbconvert_exporter": "python",
   "pygments_lexer": "ipython3",
   "version": "3.9.18"
  }
 },
 "nbformat": 4,
 "nbformat_minor": 5
}
